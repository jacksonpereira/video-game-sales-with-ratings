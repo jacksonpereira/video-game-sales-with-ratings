{
 "cells": [
  {
   "cell_type": "markdown",
   "metadata": {},
   "source": [
    "# Cluster Affinity Propagation"
   ]
  },
  {
   "cell_type": "markdown",
   "metadata": {},
   "source": [
    "## Abrindo o arquivo limpo"
   ]
  },
  {
   "cell_type": "code",
   "execution_count": 1,
   "metadata": {},
   "outputs": [
    {
     "name": "stdout",
     "output_type": "stream",
     "text": [
      "<class 'pandas.core.frame.DataFrame'>\n",
      "RangeIndex: 6821 entries, 0 to 6820\n",
      "Data columns (total 5 columns):\n",
      "Platform        6821 non-null int64\n",
      "Genre           6821 non-null int64\n",
      "Global_Sales    6821 non-null float64\n",
      "Rating          6821 non-null int64\n",
      "Score_Mean      6821 non-null float64\n",
      "dtypes: float64(2), int64(3)\n",
      "memory usage: 266.5 KB\n"
     ]
    }
   ],
   "source": [
    "import pandas as pd\n",
    "import matplotlib.pyplot as plt\n",
    "%matplotlib inline\n",
    "import numpy as np\n",
    "\n",
    "data = pd.read_csv('fileCleaned.csv')\n",
    "data.info()"
   ]
  },
  {
   "cell_type": "code",
   "execution_count": 8,
   "metadata": {},
   "outputs": [
    {
     "data": {
      "text/html": [
       "<div>\n",
       "<style scoped>\n",
       "    .dataframe tbody tr th:only-of-type {\n",
       "        vertical-align: middle;\n",
       "    }\n",
       "\n",
       "    .dataframe tbody tr th {\n",
       "        vertical-align: top;\n",
       "    }\n",
       "\n",
       "    .dataframe thead th {\n",
       "        text-align: right;\n",
       "    }\n",
       "</style>\n",
       "<table border=\"1\" class=\"dataframe\">\n",
       "  <thead>\n",
       "    <tr style=\"text-align: right;\">\n",
       "      <th></th>\n",
       "      <th>Platform</th>\n",
       "      <th>Genre</th>\n",
       "      <th>Global_Sales</th>\n",
       "      <th>Rating</th>\n",
       "      <th>Score_Mean</th>\n",
       "    </tr>\n",
       "  </thead>\n",
       "  <tbody>\n",
       "    <tr>\n",
       "      <th>0</th>\n",
       "      <td>0</td>\n",
       "      <td>0</td>\n",
       "      <td>82.53</td>\n",
       "      <td>0</td>\n",
       "      <td>42.00</td>\n",
       "    </tr>\n",
       "    <tr>\n",
       "      <th>1</th>\n",
       "      <td>0</td>\n",
       "      <td>2</td>\n",
       "      <td>35.52</td>\n",
       "      <td>0</td>\n",
       "      <td>45.15</td>\n",
       "    </tr>\n",
       "    <tr>\n",
       "      <th>2</th>\n",
       "      <td>0</td>\n",
       "      <td>0</td>\n",
       "      <td>32.77</td>\n",
       "      <td>0</td>\n",
       "      <td>44.00</td>\n",
       "    </tr>\n",
       "    <tr>\n",
       "      <th>3</th>\n",
       "      <td>3</td>\n",
       "      <td>1</td>\n",
       "      <td>29.80</td>\n",
       "      <td>0</td>\n",
       "      <td>48.75</td>\n",
       "    </tr>\n",
       "    <tr>\n",
       "      <th>4</th>\n",
       "      <td>0</td>\n",
       "      <td>5</td>\n",
       "      <td>28.92</td>\n",
       "      <td>0</td>\n",
       "      <td>32.30</td>\n",
       "    </tr>\n",
       "  </tbody>\n",
       "</table>\n",
       "</div>"
      ],
      "text/plain": [
       "   Platform  Genre  Global_Sales  Rating  Score_Mean\n",
       "0         0      0         82.53       0       42.00\n",
       "1         0      2         35.52       0       45.15\n",
       "2         0      0         32.77       0       44.00\n",
       "3         3      1         29.80       0       48.75\n",
       "4         0      5         28.92       0       32.30"
      ]
     },
     "execution_count": 8,
     "metadata": {},
     "output_type": "execute_result"
    }
   ],
   "source": [
    "data.head()"
   ]
  },
  {
   "cell_type": "code",
   "execution_count": null,
   "metadata": {},
   "outputs": [],
   "source": []
  },
  {
   "cell_type": "code",
   "execution_count": 2,
   "metadata": {},
   "outputs": [],
   "source": [
    "from sklearn.cluster import AffinityPropagation\n",
    "X = data\n",
    "clusteringAffinityPropagation = AffinityPropagation().fit(X)"
   ]
  },
  {
   "cell_type": "markdown",
   "metadata": {},
   "source": [
    "## Atributos do cluster"
   ]
  },
  {
   "cell_type": "markdown",
   "metadata": {},
   "source": [
    "### cluster_centers_indices_"
   ]
  },
  {
   "cell_type": "code",
   "execution_count": 3,
   "metadata": {},
   "outputs": [
    {
     "name": "stdout",
     "output_type": "stream",
     "text": [
      "[   0    4    5   14   17   29   53   58   75  106  114  121  150  478\n",
      "  492  579  810  858  929  934  971  974  985  987 1046 1126 1144 1148\n",
      " 1274 1279 1280 1321 1329 1384 1406 1451 1488 1590 1618 1633 1667 1682\n",
      " 1704 1742 1869 1931 1933 2053 2175 2192 2221 2243 2266 2267 2311 2346\n",
      " 2377 2424 2481 2488 2526 2543 2666 2729 2735 2745 2770 2806 2830 2834\n",
      " 2853 2885 2921 2953 3004 3081 3096 3244 3246 3273 3302 3317 3362 3412\n",
      " 3449 3456 3467 3468 3613 3696 3753 3855 3912 3933 4015 4119 4171 4287\n",
      " 4382 4400 4448 4655 4717 4764 4789 4794 4854 4903 5110 5142 5160 5170\n",
      " 5361 5368 5423 5434 5492 5509 5519 5558 5620 5653 5702 5738 5745 5799\n",
      " 5844 5929 6064 6105 6176 6211 6651 6656 6669 6693 6700 6757]\n",
      "Tamanho:  138\n"
     ]
    }
   ],
   "source": [
    "print(clusteringAffinityPropagation.cluster_centers_indices_)\n",
    "print(\"Tamanho: \" , len(clusteringAffinityPropagation.cluster_centers_indices_))"
   ]
  },
  {
   "cell_type": "markdown",
   "metadata": {},
   "source": [
    "### cluster_centers_"
   ]
  },
  {
   "cell_type": "code",
   "execution_count": 4,
   "metadata": {},
   "outputs": [
    {
     "name": "stdout",
     "output_type": "stream",
     "text": [
      "[[0.000e+00 0.000e+00 8.253e+01 0.000e+00 4.200e+01]\n",
      " [0.000e+00 5.000e+00 2.892e+01 0.000e+00 3.230e+01]\n",
      " [0.000e+00 1.000e+00 2.832e+01 0.000e+00 4.770e+01]\n",
      " [6.000e+00 8.000e+00 1.615e+01 1.000e+00 5.185e+01]\n",
      " [4.000e+00 6.000e+00 1.473e+01 1.000e+00 4.570e+01]\n",
      " [4.000e+00 6.000e+00 1.212e+01 1.000e+00 5.090e+01]\n",
      " [0.000e+00 5.000e+00 8.380e+00 0.000e+00 3.770e+01]\n",
      " [1.200e+01 3.000e+00 7.860e+00 2.000e+00 4.930e+01]\n",
      " [6.000e+00 2.000e+00 6.900e+00 0.000e+00 4.530e+01]\n",
      " [1.200e+01 8.000e+00 5.820e+00 1.000e+00 4.910e+01]\n",
      " [4.000e+00 2.000e+00 5.490e+00 0.000e+00 5.000e+01]\n",
      " [5.000e+00 6.000e+00 5.390e+00 1.000e+00 4.630e+01]\n",
      " [5.000e+00 8.000e+00 4.800e+00 1.000e+00 5.035e+01]\n",
      " [5.000e+00 8.000e+00 2.250e+00 1.000e+00 4.375e+01]\n",
      " [4.000e+00 5.000e+00 2.200e+00 2.000e+00 5.005e+01]\n",
      " [6.000e+00 0.000e+00 1.950e+00 0.000e+00 4.940e+01]\n",
      " [1.900e+01 9.000e+00 1.500e+00 2.000e+00 5.105e+01]\n",
      " [8.000e+00 1.000e+00 1.430e+00 0.000e+00 4.630e+01]\n",
      " [0.000e+00 8.000e+00 1.340e+00 2.000e+00 4.275e+01]\n",
      " [1.700e+01 6.000e+00 1.340e+00 1.000e+00 4.045e+01]\n",
      " [5.000e+00 8.000e+00 1.290e+00 1.000e+00 4.610e+01]\n",
      " [0.000e+00 5.000e+00 1.290e+00 0.000e+00 3.050e+01]\n",
      " [6.000e+00 8.000e+00 1.280e+00 1.000e+00 4.895e+01]\n",
      " [0.000e+00 5.000e+00 1.270e+00 2.000e+00 4.010e+01]\n",
      " [5.000e+00 0.000e+00 1.230e+00 0.000e+00 4.490e+01]\n",
      " [1.400e+01 6.000e+00 1.150e+00 1.000e+00 5.025e+01]\n",
      " [9.000e+00 8.000e+00 1.130e+00 1.000e+00 4.540e+01]\n",
      " [4.000e+00 5.000e+00 1.130e+00 2.000e+00 4.590e+01]\n",
      " [1.800e+01 8.000e+00 1.030e+00 2.000e+00 4.720e+01]\n",
      " [1.600e+01 2.000e+00 1.020e+00 2.000e+00 4.390e+01]\n",
      " [0.000e+00 0.000e+00 1.020e+00 0.000e+00 3.555e+01]\n",
      " [5.000e+00 2.000e+00 9.900e-01 2.000e+00 4.760e+01]\n",
      " [1.600e+01 0.000e+00 9.800e-01 0.000e+00 4.340e+01]\n",
      " [1.900e+01 1.000e+00 9.400e-01 0.000e+00 4.040e+01]\n",
      " [0.000e+00 5.000e+00 9.300e-01 2.000e+00 4.680e+01]\n",
      " [4.000e+00 3.000e+00 9.000e-01 2.000e+00 4.315e+01]\n",
      " [0.000e+00 0.000e+00 8.900e-01 0.000e+00 4.420e+01]\n",
      " [0.000e+00 6.000e+00 8.200e-01 1.000e+00 3.590e+01]\n",
      " [6.000e+00 6.000e+00 8.000e-01 1.000e+00 4.415e+01]\n",
      " [0.000e+00 8.000e+00 7.900e-01 2.000e+00 2.720e+01]\n",
      " [5.000e+00 6.000e+00 7.800e-01 2.000e+00 3.915e+01]\n",
      " [8.000e+00 1.000e+00 7.700e-01 0.000e+00 4.270e+01]\n",
      " [6.000e+00 1.000e+00 7.500e-01 0.000e+00 3.770e+01]\n",
      " [5.000e+00 8.000e+00 7.400e-01 2.000e+00 4.185e+01]\n",
      " [1.300e+01 0.000e+00 6.800e-01 0.000e+00 4.850e+01]\n",
      " [1.900e+01 2.000e+00 6.500e-01 2.000e+00 4.875e+01]\n",
      " [4.000e+00 5.000e+00 6.500e-01 2.000e+00 4.170e+01]\n",
      " [4.000e+00 0.000e+00 6.100e-01 0.000e+00 4.245e+01]\n",
      " [5.000e+00 6.000e+00 5.700e-01 1.000e+00 3.670e+01]\n",
      " [1.400e+01 6.000e+00 5.600e-01 1.000e+00 4.610e+01]\n",
      " [1.300e+01 0.000e+00 5.600e-01 0.000e+00 4.460e+01]\n",
      " [6.000e+00 1.000e+01 5.500e-01 2.000e+00 3.735e+01]\n",
      " [1.300e+01 1.000e+00 5.400e-01 0.000e+00 4.125e+01]\n",
      " [5.000e+00 0.000e+00 5.400e-01 3.000e+00 4.300e+01]\n",
      " [6.000e+00 6.000e+00 5.300e-01 1.000e+00 3.305e+01]\n",
      " [3.000e+00 3.000e+00 5.200e-01 0.000e+00 3.860e+01]\n",
      " [1.400e+01 7.000e+00 5.200e-01 2.000e+00 4.330e+01]\n",
      " [4.000e+00 9.000e+00 5.000e-01 2.000e+00 4.440e+01]\n",
      " [1.000e+01 8.000e+00 4.900e-01 1.000e+00 3.570e+01]\n",
      " [4.000e+00 9.000e+00 4.900e-01 2.000e+00 3.980e+01]\n",
      " [0.000e+00 1.000e+00 4.700e-01 2.000e+00 2.915e+01]\n",
      " [6.000e+00 2.000e+00 4.700e-01 2.000e+00 3.300e+01]\n",
      " [1.300e+01 2.000e+00 4.400e-01 0.000e+00 4.515e+01]\n",
      " [1.900e+01 0.000e+00 4.200e-01 0.000e+00 4.830e+01]\n",
      " [1.600e+01 2.000e+00 4.200e-01 2.000e+00 3.660e+01]\n",
      " [2.200e+01 8.000e+00 4.200e-01 2.000e+00 3.390e+01]\n",
      " [6.000e+00 8.000e+00 4.200e-01 1.000e+00 3.875e+01]\n",
      " [1.800e+01 6.000e+00 4.100e-01 1.000e+00 4.395e+01]\n",
      " [4.000e+00 8.000e+00 4.000e-01 2.000e+00 3.830e+01]\n",
      " [4.000e+00 8.000e+00 4.000e-01 1.000e+00 2.785e+01]\n",
      " [2.200e+01 3.000e+00 4.000e-01 2.000e+00 3.690e+01]\n",
      " [1.000e+01 3.000e+00 3.900e-01 2.000e+00 3.865e+01]\n",
      " [6.000e+00 3.000e+00 3.800e-01 1.000e+00 4.535e+01]\n",
      " [5.000e+00 0.000e+00 3.800e-01 0.000e+00 3.940e+01]\n",
      " [0.000e+00 8.000e+00 3.700e-01 2.000e+00 3.795e+01]\n",
      " [2.200e+01 8.000e+00 3.500e-01 2.000e+00 3.950e+01]\n",
      " [1.900e+01 0.000e+00 3.500e-01 0.000e+00 4.450e+01]\n",
      " [5.000e+00 8.000e+00 3.200e-01 2.000e+00 2.435e+01]\n",
      " [1.400e+01 3.000e+00 3.200e-01 2.000e+00 4.775e+01]\n",
      " [1.400e+01 3.000e+00 3.200e-01 1.000e+00 4.020e+01]\n",
      " [1.800e+01 8.000e+00 3.100e-01 2.000e+00 3.770e+01]\n",
      " [5.000e+00 8.000e+00 3.100e-01 2.000e+00 2.135e+01]\n",
      " [4.000e+00 3.000e+00 3.000e-01 2.000e+00 3.440e+01]\n",
      " [5.000e+00 8.000e+00 2.900e-01 2.000e+00 3.565e+01]\n",
      " [9.000e+00 3.000e+00 2.900e-01 2.000e+00 4.405e+01]\n",
      " [1.900e+01 1.000e+00 2.900e-01 0.000e+00 3.515e+01]\n",
      " [1.300e+01 8.000e+00 2.800e-01 1.000e+00 4.660e+01]\n",
      " [6.000e+00 3.000e+00 2.800e-01 1.000e+00 4.090e+01]\n",
      " [5.000e+00 8.000e+00 2.600e-01 2.000e+00 3.090e+01]\n",
      " [1.300e+01 6.000e+00 2.500e-01 1.000e+00 4.115e+01]\n",
      " [9.000e+00 8.000e+00 2.400e-01 2.000e+00 4.205e+01]\n",
      " [0.000e+00 8.000e+00 2.300e-01 2.000e+00 3.290e+01]\n",
      " [2.200e+01 8.000e+00 2.200e-01 1.000e+00 4.520e+01]\n",
      " [1.400e+01 7.000e+00 2.200e-01 2.000e+00 3.965e+01]\n",
      " [6.000e+00 1.000e+01 2.100e-01 2.000e+00 4.310e+01]\n",
      " [1.600e+01 8.000e+00 2.000e-01 2.000e+00 3.430e+01]\n",
      " [1.300e+01 2.000e+00 1.900e-01 2.000e+00 3.165e+01]\n",
      " [2.100e+01 3.000e+00 1.900e-01 2.000e+00 4.445e+01]\n",
      " [1.600e+01 5.000e+00 1.800e-01 1.000e+00 2.180e+01]\n",
      " [1.900e+01 8.000e+00 1.700e-01 1.000e+00 3.390e+01]\n",
      " [9.000e+00 8.000e+00 1.700e-01 2.000e+00 3.225e+01]\n",
      " [1.900e+01 8.000e+00 1.500e-01 2.000e+00 2.815e+01]\n",
      " [6.000e+00 1.000e+00 1.400e-01 0.000e+00 3.075e+01]\n",
      " [1.300e+01 1.000e+00 1.400e-01 0.000e+00 3.655e+01]\n",
      " [9.000e+00 8.000e+00 1.400e-01 1.000e+00 2.545e+01]\n",
      " [1.700e+01 8.000e+00 1.400e-01 2.000e+00 4.145e+01]\n",
      " [3.000e+00 8.000e+00 1.300e-01 2.000e+00 1.560e+01]\n",
      " [6.000e+00 2.000e+00 1.300e-01 2.000e+00 3.735e+01]\n",
      " [4.000e+00 9.000e+00 1.100e-01 2.000e+00 3.360e+01]\n",
      " [4.000e+00 2.000e+00 1.100e-01 2.000e+00 3.935e+01]\n",
      " [5.000e+00 6.000e+00 1.100e-01 1.000e+00 2.675e+01]\n",
      " [0.000e+00 1.000e+00 1.100e-01 2.000e+00 3.955e+01]\n",
      " [1.400e+01 1.100e+01 1.000e-01 2.000e+00 4.845e+01]\n",
      " [1.300e+01 7.000e+00 9.000e-02 1.000e+00 3.255e+01]\n",
      " [1.600e+01 1.000e+00 9.000e-02 2.000e+00 3.950e+01]\n",
      " [1.000e+01 2.000e+00 9.000e-02 1.000e+00 2.650e+01]\n",
      " [1.900e+01 1.000e+00 9.000e-02 0.000e+00 2.355e+01]\n",
      " [4.000e+00 6.000e+00 9.000e-02 1.000e+00 1.795e+01]\n",
      " [4.000e+00 1.000e+00 9.000e-02 0.000e+00 3.425e+01]\n",
      " [9.000e+00 8.000e+00 8.000e-02 2.000e+00 3.890e+01]\n",
      " [1.900e+01 8.000e+00 8.000e-02 2.000e+00 1.610e+01]\n",
      " [1.900e+01 2.000e+00 8.000e-02 2.000e+00 3.100e+01]\n",
      " [5.000e+00 2.000e+00 7.000e-02 1.000e+00 2.700e+01]\n",
      " [6.000e+00 2.000e+00 7.000e-02 1.000e+00 2.145e+01]\n",
      " [3.000e+00 2.000e+00 7.000e-02 0.000e+00 1.270e+01]\n",
      " [5.000e+00 6.000e+00 7.000e-02 1.000e+00 3.070e+01]\n",
      " [1.300e+01 8.000e+00 6.000e-02 1.000e+00 1.725e+01]\n",
      " [1.600e+01 3.000e+00 6.000e-02 2.000e+00 2.970e+01]\n",
      " [1.400e+01 6.000e+00 5.000e-02 1.000e+00 3.625e+01]\n",
      " [9.000e+00 2.000e+00 5.000e-02 0.000e+00 3.490e+01]\n",
      " [0.000e+00 8.000e+00 5.000e-02 2.000e+00 2.245e+01]\n",
      " [1.400e+01 1.100e+01 4.000e-02 2.000e+00 4.310e+01]\n",
      " [1.300e+01 8.000e+00 2.000e-02 1.000e+00 2.500e+01]\n",
      " [0.000e+00 2.000e+00 2.000e-02 2.000e+00 2.215e+01]\n",
      " [1.300e+01 2.000e+00 2.000e-02 0.000e+00 1.340e+01]\n",
      " [1.400e+01 8.000e+00 2.000e-02 2.000e+00 2.900e+01]\n",
      " [1.400e+01 1.000e+01 2.000e-02 1.000e+00 3.950e+01]\n",
      " [1.400e+01 1.000e+01 1.000e-02 2.000e+00 3.615e+01]]\n",
      "Tamanho:  138\n"
     ]
    }
   ],
   "source": [
    "print(clusteringAffinityPropagation.cluster_centers_)\n",
    "print(\"Tamanho: \" , len(clusteringAffinityPropagation.cluster_centers_))"
   ]
  },
  {
   "cell_type": "markdown",
   "metadata": {},
   "source": [
    "### labels_"
   ]
  },
  {
   "cell_type": "code",
   "execution_count": 5,
   "metadata": {},
   "outputs": [
    {
     "name": "stdout",
     "output_type": "stream",
     "text": [
      "[  0   2   2 ...  56 113 137]\n",
      "Tamanho:  6821\n"
     ]
    }
   ],
   "source": [
    "print(clusteringAffinityPropagation.labels_)\n",
    "print(\"Tamanho: \" , len(clusteringAffinityPropagation.labels_))"
   ]
  },
  {
   "cell_type": "markdown",
   "metadata": {},
   "source": [
    "### affinity_matrix_"
   ]
  },
  {
   "cell_type": "code",
   "execution_count": 6,
   "metadata": {},
   "outputs": [
    {
     "name": "stdout",
     "output_type": "stream",
     "text": [
      "[[   -0.     -2223.8626 -2480.0576 ... -7073.7904 -7119.5104 -7206.1104]\n",
      " [-2223.8626    -0.       -12.885  ... -1495.7826 -1615.0226 -1680.3626]\n",
      " [-2480.0576   -12.885     -0.     ... -1334.2576 -1421.5776 -1507.3776]\n",
      " ...\n",
      " [-7073.7904 -1495.7826 -1334.2576 ...    -0.      -113.16    -117.04  ]\n",
      " [-7119.5104 -1615.0226 -1421.5776 ...  -113.16      -0.       -26.04  ]\n",
      " [-7206.1104 -1680.3626 -1507.3776 ...  -117.04     -26.04      -0.    ]]\n",
      "Tamanho:  6821\n"
     ]
    }
   ],
   "source": [
    "print(clusteringAffinityPropagation.affinity_matrix_)\n",
    "print(\"Tamanho: \" , len(clusteringAffinityPropagation.affinity_matrix_))"
   ]
  },
  {
   "cell_type": "markdown",
   "metadata": {},
   "source": [
    "### n_iter_"
   ]
  },
  {
   "cell_type": "code",
   "execution_count": 7,
   "metadata": {},
   "outputs": [
    {
     "name": "stdout",
     "output_type": "stream",
     "text": [
      "100\n"
     ]
    }
   ],
   "source": [
    "print(clusteringAffinityPropagation.n_iter_)"
   ]
  },
  {
   "cell_type": "markdown",
   "metadata": {},
   "source": [
    "## Predição"
   ]
  },
  {
   "cell_type": "markdown",
   "metadata": {},
   "source": [
    "### Arbrindo arquivo com os dados originais"
   ]
  },
  {
   "cell_type": "code",
   "execution_count": 16,
   "metadata": {},
   "outputs": [
    {
     "data": {
      "text/html": [
       "<div>\n",
       "<style scoped>\n",
       "    .dataframe tbody tr th:only-of-type {\n",
       "        vertical-align: middle;\n",
       "    }\n",
       "\n",
       "    .dataframe tbody tr th {\n",
       "        vertical-align: top;\n",
       "    }\n",
       "\n",
       "    .dataframe thead th {\n",
       "        text-align: right;\n",
       "    }\n",
       "</style>\n",
       "<table border=\"1\" class=\"dataframe\">\n",
       "  <thead>\n",
       "    <tr style=\"text-align: right;\">\n",
       "      <th></th>\n",
       "      <th>Name</th>\n",
       "      <th>Platform</th>\n",
       "      <th>Year_of_Release</th>\n",
       "      <th>Genre</th>\n",
       "      <th>Publisher</th>\n",
       "      <th>NA_Sales</th>\n",
       "      <th>EU_Sales</th>\n",
       "      <th>JP_Sales</th>\n",
       "      <th>Other_Sales</th>\n",
       "      <th>Global_Sales</th>\n",
       "      <th>Critic_Score</th>\n",
       "      <th>Critic_Count</th>\n",
       "      <th>User_Score</th>\n",
       "      <th>User_Count</th>\n",
       "      <th>Developer</th>\n",
       "      <th>Rating</th>\n",
       "    </tr>\n",
       "  </thead>\n",
       "  <tbody>\n",
       "    <tr>\n",
       "      <th>0</th>\n",
       "      <td>Wii Sports</td>\n",
       "      <td>Wii</td>\n",
       "      <td>2006.0</td>\n",
       "      <td>Sports</td>\n",
       "      <td>Nintendo</td>\n",
       "      <td>41.36</td>\n",
       "      <td>28.96</td>\n",
       "      <td>3.77</td>\n",
       "      <td>8.45</td>\n",
       "      <td>82.53</td>\n",
       "      <td>76.0</td>\n",
       "      <td>51.0</td>\n",
       "      <td>8</td>\n",
       "      <td>322.0</td>\n",
       "      <td>Nintendo</td>\n",
       "      <td>E</td>\n",
       "    </tr>\n",
       "    <tr>\n",
       "      <th>1</th>\n",
       "      <td>Super Mario Bros.</td>\n",
       "      <td>NES</td>\n",
       "      <td>1985.0</td>\n",
       "      <td>Platform</td>\n",
       "      <td>Nintendo</td>\n",
       "      <td>29.08</td>\n",
       "      <td>3.58</td>\n",
       "      <td>6.81</td>\n",
       "      <td>0.77</td>\n",
       "      <td>40.24</td>\n",
       "      <td>NaN</td>\n",
       "      <td>NaN</td>\n",
       "      <td>NaN</td>\n",
       "      <td>NaN</td>\n",
       "      <td>NaN</td>\n",
       "      <td>NaN</td>\n",
       "    </tr>\n",
       "    <tr>\n",
       "      <th>2</th>\n",
       "      <td>Mario Kart Wii</td>\n",
       "      <td>Wii</td>\n",
       "      <td>2008.0</td>\n",
       "      <td>Racing</td>\n",
       "      <td>Nintendo</td>\n",
       "      <td>15.68</td>\n",
       "      <td>12.76</td>\n",
       "      <td>3.79</td>\n",
       "      <td>3.29</td>\n",
       "      <td>35.52</td>\n",
       "      <td>82.0</td>\n",
       "      <td>73.0</td>\n",
       "      <td>8.3</td>\n",
       "      <td>709.0</td>\n",
       "      <td>Nintendo</td>\n",
       "      <td>E</td>\n",
       "    </tr>\n",
       "    <tr>\n",
       "      <th>3</th>\n",
       "      <td>Wii Sports Resort</td>\n",
       "      <td>Wii</td>\n",
       "      <td>2009.0</td>\n",
       "      <td>Sports</td>\n",
       "      <td>Nintendo</td>\n",
       "      <td>15.61</td>\n",
       "      <td>10.93</td>\n",
       "      <td>3.28</td>\n",
       "      <td>2.95</td>\n",
       "      <td>32.77</td>\n",
       "      <td>80.0</td>\n",
       "      <td>73.0</td>\n",
       "      <td>8</td>\n",
       "      <td>192.0</td>\n",
       "      <td>Nintendo</td>\n",
       "      <td>E</td>\n",
       "    </tr>\n",
       "    <tr>\n",
       "      <th>4</th>\n",
       "      <td>Pokemon Red/Pokemon Blue</td>\n",
       "      <td>GB</td>\n",
       "      <td>1996.0</td>\n",
       "      <td>Role-Playing</td>\n",
       "      <td>Nintendo</td>\n",
       "      <td>11.27</td>\n",
       "      <td>8.89</td>\n",
       "      <td>10.22</td>\n",
       "      <td>1.00</td>\n",
       "      <td>31.37</td>\n",
       "      <td>NaN</td>\n",
       "      <td>NaN</td>\n",
       "      <td>NaN</td>\n",
       "      <td>NaN</td>\n",
       "      <td>NaN</td>\n",
       "      <td>NaN</td>\n",
       "    </tr>\n",
       "  </tbody>\n",
       "</table>\n",
       "</div>"
      ],
      "text/plain": [
       "                       Name Platform  Year_of_Release         Genre Publisher  \\\n",
       "0                Wii Sports      Wii           2006.0        Sports  Nintendo   \n",
       "1         Super Mario Bros.      NES           1985.0      Platform  Nintendo   \n",
       "2            Mario Kart Wii      Wii           2008.0        Racing  Nintendo   \n",
       "3         Wii Sports Resort      Wii           2009.0        Sports  Nintendo   \n",
       "4  Pokemon Red/Pokemon Blue       GB           1996.0  Role-Playing  Nintendo   \n",
       "\n",
       "   NA_Sales  EU_Sales  JP_Sales  Other_Sales  Global_Sales  Critic_Score  \\\n",
       "0     41.36     28.96      3.77         8.45         82.53          76.0   \n",
       "1     29.08      3.58      6.81         0.77         40.24           NaN   \n",
       "2     15.68     12.76      3.79         3.29         35.52          82.0   \n",
       "3     15.61     10.93      3.28         2.95         32.77          80.0   \n",
       "4     11.27      8.89     10.22         1.00         31.37           NaN   \n",
       "\n",
       "   Critic_Count User_Score  User_Count Developer Rating  \n",
       "0          51.0          8       322.0  Nintendo      E  \n",
       "1           NaN        NaN         NaN       NaN    NaN  \n",
       "2          73.0        8.3       709.0  Nintendo      E  \n",
       "3          73.0          8       192.0  Nintendo      E  \n",
       "4           NaN        NaN         NaN       NaN    NaN  "
      ]
     },
     "execution_count": 16,
     "metadata": {},
     "output_type": "execute_result"
    }
   ],
   "source": [
    "data = pd.read_csv('datasets/video-game-sales-with-ratings/Video_Games_Sales_as_at_22_Dec_2016.csv')\n",
    "data.head()"
   ]
  },
  {
   "cell_type": "code",
   "execution_count": 15,
   "metadata": {},
   "outputs": [
    {
     "data": {
      "text/plain": [
       "array([2, 1])"
      ]
     },
     "execution_count": 15,
     "metadata": {},
     "output_type": "execute_result"
    }
   ],
   "source": [
    "x = [[3,1,29.80,0,48.75],[3,5,28.92,0,40.00]]\n",
    "clusteringAffinityPropagation.predict(x)"
   ]
  },
  {
   "cell_type": "code",
   "execution_count": null,
   "metadata": {},
   "outputs": [],
   "source": [
    "def predicao(x):\n",
    "    clusteringAffinityPropagation.predict(x)\n",
    "data['Cluster'] = data.apply(lambda row: predicao(row['Critic_Score'], row['User_Score']), axis=1)"
   ]
  }
 ],
 "metadata": {
  "kernelspec": {
   "display_name": "Python 3",
   "language": "python",
   "name": "python3"
  },
  "language_info": {
   "codemirror_mode": {
    "name": "ipython",
    "version": 3
   },
   "file_extension": ".py",
   "mimetype": "text/x-python",
   "name": "python",
   "nbconvert_exporter": "python",
   "pygments_lexer": "ipython3",
   "version": "3.6.5"
  }
 },
 "nbformat": 4,
 "nbformat_minor": 2
}
