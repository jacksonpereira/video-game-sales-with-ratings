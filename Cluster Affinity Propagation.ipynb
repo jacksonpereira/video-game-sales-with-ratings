{
 "cells": [
  {
   "cell_type": "markdown",
   "metadata": {},
   "source": [
    "# Cluster Affinity Propagation"
   ]
  },
  {
   "cell_type": "markdown",
   "metadata": {},
   "source": [
    "## Abrindo o arquivo de treino"
   ]
  },
  {
   "cell_type": "code",
   "execution_count": 1,
   "metadata": {
    "scrolled": true
   },
   "outputs": [
    {
     "name": "stdout",
     "output_type": "stream",
     "text": [
      "<class 'pandas.core.frame.DataFrame'>\n",
      "RangeIndex: 4572 entries, 0 to 4571\n",
      "Data columns (total 17 columns):\n",
      "Nome                      4572 non-null object\n",
      "Plataforma                4572 non-null int64\n",
      "Ano de lancamento         4572 non-null int64\n",
      "Genero                    4572 non-null int64\n",
      "Publicadora               4572 non-null int64\n",
      "Vendas NA                 4572 non-null float64\n",
      "Vendas EU                 4572 non-null float64\n",
      "Vendas JP                 4572 non-null float64\n",
      "Outras vendas             4572 non-null float64\n",
      "Vendas globais            4572 non-null float64\n",
      "Pontuacao da critica      4572 non-null float64\n",
      "Contagem de criticas      4572 non-null float64\n",
      "Pontuacao dos usuarios    4572 non-null float64\n",
      "Contagem de usuarios      4572 non-null float64\n",
      "Desenvolvedora            4572 non-null int64\n",
      "Classificacao             4572 non-null int64\n",
      "Media de pontuacao        4572 non-null float64\n",
      "dtypes: float64(10), int64(6), object(1)\n",
      "memory usage: 607.3+ KB\n"
     ]
    }
   ],
   "source": [
    "import pandas as pd\n",
    "import matplotlib.pyplot as plt\n",
    "%matplotlib inline\n",
    "import numpy as np\n",
    "\n",
    "data = pd.read_csv('treino.csv')\n",
    "\n",
    "# Plataforma\n",
    "# Genero\n",
    "# Vendas globais\n",
    "# Pontuacao da critica\n",
    "# Pontuacao dos usuarios\n",
    "# Classificacao\n",
    "# Media de pontuacao\n",
    "\n",
    "data['Plataforma'].astype('int64')\n",
    "data['Genero'].astype('int64')\n",
    "data['Vendas globais'].astype('float64')\n",
    "data['Pontuacao da critica'].astype('float64')\n",
    "data['Pontuacao dos usuarios'].astype('float64')\n",
    "data['Classificacao'].astype('int64')\n",
    "data['Media de pontuacao'].astype('float64')\n",
    "\n",
    "data.info()"
   ]
  },
  {
   "cell_type": "code",
   "execution_count": 2,
   "metadata": {
    "scrolled": true
   },
   "outputs": [
    {
     "data": {
      "text/html": [
       "<div>\n",
       "<style scoped>\n",
       "    .dataframe tbody tr th:only-of-type {\n",
       "        vertical-align: middle;\n",
       "    }\n",
       "\n",
       "    .dataframe tbody tr th {\n",
       "        vertical-align: top;\n",
       "    }\n",
       "\n",
       "    .dataframe thead th {\n",
       "        text-align: right;\n",
       "    }\n",
       "</style>\n",
       "<table border=\"1\" class=\"dataframe\">\n",
       "  <thead>\n",
       "    <tr style=\"text-align: right;\">\n",
       "      <th></th>\n",
       "      <th>Nome</th>\n",
       "      <th>Plataforma</th>\n",
       "      <th>Ano de lancamento</th>\n",
       "      <th>Genero</th>\n",
       "      <th>Publicadora</th>\n",
       "      <th>Vendas NA</th>\n",
       "      <th>Vendas EU</th>\n",
       "      <th>Vendas JP</th>\n",
       "      <th>Outras vendas</th>\n",
       "      <th>Vendas globais</th>\n",
       "      <th>Pontuacao da critica</th>\n",
       "      <th>Contagem de criticas</th>\n",
       "      <th>Pontuacao dos usuarios</th>\n",
       "      <th>Contagem de usuarios</th>\n",
       "      <th>Desenvolvedora</th>\n",
       "      <th>Classificacao</th>\n",
       "      <th>Media de pontuacao</th>\n",
       "    </tr>\n",
       "  </thead>\n",
       "  <tbody>\n",
       "    <tr>\n",
       "      <th>0</th>\n",
       "      <td>Wii Sports</td>\n",
       "      <td>0</td>\n",
       "      <td>2006</td>\n",
       "      <td>0</td>\n",
       "      <td>0</td>\n",
       "      <td>41.36</td>\n",
       "      <td>28.96</td>\n",
       "      <td>3.77</td>\n",
       "      <td>8.45</td>\n",
       "      <td>82.53</td>\n",
       "      <td>76.0</td>\n",
       "      <td>51.0</td>\n",
       "      <td>8.0</td>\n",
       "      <td>322.0</td>\n",
       "      <td>0</td>\n",
       "      <td>0</td>\n",
       "      <td>42.00</td>\n",
       "    </tr>\n",
       "    <tr>\n",
       "      <th>1</th>\n",
       "      <td>Mario Kart Wii</td>\n",
       "      <td>0</td>\n",
       "      <td>2008</td>\n",
       "      <td>2</td>\n",
       "      <td>0</td>\n",
       "      <td>15.68</td>\n",
       "      <td>12.76</td>\n",
       "      <td>3.79</td>\n",
       "      <td>3.29</td>\n",
       "      <td>35.52</td>\n",
       "      <td>82.0</td>\n",
       "      <td>73.0</td>\n",
       "      <td>8.3</td>\n",
       "      <td>709.0</td>\n",
       "      <td>0</td>\n",
       "      <td>0</td>\n",
       "      <td>45.15</td>\n",
       "    </tr>\n",
       "    <tr>\n",
       "      <th>2</th>\n",
       "      <td>Wii Sports Resort</td>\n",
       "      <td>0</td>\n",
       "      <td>2009</td>\n",
       "      <td>0</td>\n",
       "      <td>0</td>\n",
       "      <td>15.61</td>\n",
       "      <td>10.93</td>\n",
       "      <td>3.28</td>\n",
       "      <td>2.95</td>\n",
       "      <td>32.77</td>\n",
       "      <td>80.0</td>\n",
       "      <td>73.0</td>\n",
       "      <td>8.0</td>\n",
       "      <td>192.0</td>\n",
       "      <td>0</td>\n",
       "      <td>0</td>\n",
       "      <td>44.00</td>\n",
       "    </tr>\n",
       "    <tr>\n",
       "      <th>3</th>\n",
       "      <td>New Super Mario Bros.</td>\n",
       "      <td>3</td>\n",
       "      <td>2006</td>\n",
       "      <td>1</td>\n",
       "      <td>0</td>\n",
       "      <td>11.28</td>\n",
       "      <td>9.14</td>\n",
       "      <td>6.50</td>\n",
       "      <td>2.88</td>\n",
       "      <td>29.80</td>\n",
       "      <td>89.0</td>\n",
       "      <td>65.0</td>\n",
       "      <td>8.5</td>\n",
       "      <td>431.0</td>\n",
       "      <td>0</td>\n",
       "      <td>0</td>\n",
       "      <td>48.75</td>\n",
       "    </tr>\n",
       "    <tr>\n",
       "      <th>4</th>\n",
       "      <td>Wii Play</td>\n",
       "      <td>0</td>\n",
       "      <td>2006</td>\n",
       "      <td>5</td>\n",
       "      <td>0</td>\n",
       "      <td>13.96</td>\n",
       "      <td>9.18</td>\n",
       "      <td>2.93</td>\n",
       "      <td>2.84</td>\n",
       "      <td>28.92</td>\n",
       "      <td>58.0</td>\n",
       "      <td>41.0</td>\n",
       "      <td>6.6</td>\n",
       "      <td>129.0</td>\n",
       "      <td>0</td>\n",
       "      <td>0</td>\n",
       "      <td>32.30</td>\n",
       "    </tr>\n",
       "  </tbody>\n",
       "</table>\n",
       "</div>"
      ],
      "text/plain": [
       "                    Nome  Plataforma  Ano de lancamento  Genero  Publicadora  \\\n",
       "0             Wii Sports           0               2006       0            0   \n",
       "1         Mario Kart Wii           0               2008       2            0   \n",
       "2      Wii Sports Resort           0               2009       0            0   \n",
       "3  New Super Mario Bros.           3               2006       1            0   \n",
       "4               Wii Play           0               2006       5            0   \n",
       "\n",
       "   Vendas NA  Vendas EU  Vendas JP  Outras vendas  Vendas globais  \\\n",
       "0      41.36      28.96       3.77           8.45           82.53   \n",
       "1      15.68      12.76       3.79           3.29           35.52   \n",
       "2      15.61      10.93       3.28           2.95           32.77   \n",
       "3      11.28       9.14       6.50           2.88           29.80   \n",
       "4      13.96       9.18       2.93           2.84           28.92   \n",
       "\n",
       "   Pontuacao da critica  Contagem de criticas  Pontuacao dos usuarios  \\\n",
       "0                  76.0                  51.0                     8.0   \n",
       "1                  82.0                  73.0                     8.3   \n",
       "2                  80.0                  73.0                     8.0   \n",
       "3                  89.0                  65.0                     8.5   \n",
       "4                  58.0                  41.0                     6.6   \n",
       "\n",
       "   Contagem de usuarios  Desenvolvedora  Classificacao  Media de pontuacao  \n",
       "0                 322.0               0              0               42.00  \n",
       "1                 709.0               0              0               45.15  \n",
       "2                 192.0               0              0               44.00  \n",
       "3                 431.0               0              0               48.75  \n",
       "4                 129.0               0              0               32.30  "
      ]
     },
     "execution_count": 2,
     "metadata": {},
     "output_type": "execute_result"
    }
   ],
   "source": [
    "data.head()"
   ]
  },
  {
   "cell_type": "markdown",
   "metadata": {},
   "source": [
    "### Separando dados de treino e teste"
   ]
  },
  {
   "cell_type": "code",
   "execution_count": 1,
   "metadata": {},
   "outputs": [],
   "source": [
    "# from sklearn.model_selection import ShuffleSplit\n",
    "# rs = ShuffleSplit(test_size=0.33, random_state=42)\n",
    "# df_train = pd.DataFrame(data={})\n",
    "# df_test = pd.DataFrame(data={})\n",
    "# columns = ['Nome', 'Plataforma', 'Ano de lancamento', 'Genero', 'Publicadora', 'Vendas NA', 'Vendas EU', 'Vendas JP',\n",
    "#            'Outras vendas', 'Vendas globais', 'Pontuacao da critica', 'Contagem de criticas', 'Pontuacao dos usuarios', \n",
    "#            'Contagem de usuarios', 'Desenvolvedora', 'Classificacao', 'Media de pontuacao']\n",
    "# for train_index, test_index in rs.split(data):\n",
    "#     print('Train')\n",
    "#     print(len(train_index))\n",
    "# #     df_train.append(pd.DataFrame(data=train_index, columns=columns))\n",
    "#     print('Test')\n",
    "#     print(len(test_index))\n",
    "# #     df_test.append(pd.DataFrame(data=test_index, columns=columns))\n",
    "# #     print(data.iloc[train])\n",
    "#     print('==========')\n",
    "# df_train.head()"
   ]
  },
  {
   "cell_type": "markdown",
   "metadata": {},
   "source": [
    "### Criando um dataframe com os atributos importantes para treino"
   ]
  },
  {
   "cell_type": "code",
   "execution_count": 3,
   "metadata": {},
   "outputs": [],
   "source": [
    "# treino = pd.DataFrame(data={'Plataforma': data['Plataforma'], 'Genero': data['Genero'], 'Vendas globais': data['Vendas globais'], 'Pontuacao da critica': data['Pontuacao da critica'], 'Pontuacao dos usuarios': data['Pontuacao dos usuarios'], 'Classificacao': data['Classificacao'], 'Media de pontuacao': data['Media de pontuacao']})\n",
    "treino = pd.DataFrame(data={'Plataforma': data['Plataforma'], 'Genero': data['Genero'], 'Publicadora': data['Publicadora'], 'Desenvolvedora': data['Desenvolvedora'], 'Classificacao': data['Classificacao']})"
   ]
  },
  {
   "cell_type": "markdown",
   "metadata": {},
   "source": [
    "## Treinando o modelo"
   ]
  },
  {
   "cell_type": "code",
   "execution_count": 4,
   "metadata": {},
   "outputs": [],
   "source": [
    "from sklearn.cluster import AffinityPropagation\n",
    "clusteringAffinityPropagation = AffinityPropagation(max_iter=999).fit(treino)"
   ]
  },
  {
   "cell_type": "markdown",
   "metadata": {},
   "source": [
    "## Atributos do cluster"
   ]
  },
  {
   "cell_type": "markdown",
   "metadata": {},
   "source": [
    "### cluster_centers_indices_"
   ]
  },
  {
   "cell_type": "code",
   "execution_count": 5,
   "metadata": {},
   "outputs": [
    {
     "name": "stdout",
     "output_type": "stream",
     "text": [
      "[   0    1    2 ... 4563 4566 4569]\n",
      "Tamanho:  1190\n"
     ]
    }
   ],
   "source": [
    "print(clusteringAffinityPropagation.cluster_centers_indices_)\n",
    "print(\"Tamanho: \" , len(clusteringAffinityPropagation.cluster_centers_indices_))"
   ]
  },
  {
   "cell_type": "markdown",
   "metadata": {},
   "source": [
    "### cluster_centers_"
   ]
  },
  {
   "cell_type": "code",
   "execution_count": 6,
   "metadata": {},
   "outputs": [
    {
     "name": "stdout",
     "output_type": "stream",
     "text": [
      "[[ 0  0  0  0  0]\n",
      " [ 0  2  0  0  0]\n",
      " [ 0  0  0  0  0]\n",
      " ...\n",
      " [ 4  0  5 52  2]\n",
      " [19  0  7 18  0]\n",
      " [13  0  7 18  0]]\n",
      "Tamanho:  1190\n"
     ]
    }
   ],
   "source": [
    "print(clusteringAffinityPropagation.cluster_centers_)\n",
    "print(\"Tamanho: \" , len(clusteringAffinityPropagation.cluster_centers_))"
   ]
  },
  {
   "cell_type": "markdown",
   "metadata": {},
   "source": [
    "### labels_"
   ]
  },
  {
   "cell_type": "code",
   "execution_count": 7,
   "metadata": {},
   "outputs": [
    {
     "name": "stdout",
     "output_type": "stream",
     "text": [
      "[   0    1    2 ... 1189 1165  866]\n",
      "Tamanho:  4572\n"
     ]
    }
   ],
   "source": [
    "print(clusteringAffinityPropagation.labels_)\n",
    "print(\"Tamanho: \" , len(clusteringAffinityPropagation.labels_))"
   ]
  },
  {
   "cell_type": "markdown",
   "metadata": {},
   "source": [
    "### affinity_matrix_"
   ]
  },
  {
   "cell_type": "code",
   "execution_count": 8,
   "metadata": {},
   "outputs": [
    {
     "name": "stdout",
     "output_type": "stream",
     "text": [
      "[[-0.000000e+00 -4.000000e+00 -0.000000e+00 ... -5.420000e+02\n",
      "  -1.020186e+06 -4.025610e+05]\n",
      " [-4.000000e+00 -0.000000e+00 -4.000000e+00 ... -5.460000e+02\n",
      "  -1.020154e+06 -4.025410e+05]\n",
      " [-0.000000e+00 -4.000000e+00 -0.000000e+00 ... -5.420000e+02\n",
      "  -1.020186e+06 -4.025610e+05]\n",
      " ...\n",
      " [-5.420000e+02 -5.460000e+02 -5.420000e+02 ... -0.000000e+00\n",
      "  -9.818160e+05 -3.798010e+05]\n",
      " [-1.020186e+06 -1.020154e+06 -1.020186e+06 ... -9.818160e+05\n",
      "  -0.000000e+00 -1.719470e+05]\n",
      " [-4.025610e+05 -4.025410e+05 -4.025610e+05 ... -3.798010e+05\n",
      "  -1.719470e+05 -0.000000e+00]]\n",
      "Tamanho:  4572\n"
     ]
    }
   ],
   "source": [
    "print(clusteringAffinityPropagation.affinity_matrix_)\n",
    "print(\"Tamanho: \" , len(clusteringAffinityPropagation.affinity_matrix_))"
   ]
  },
  {
   "cell_type": "markdown",
   "metadata": {},
   "source": [
    "### n_iter_"
   ]
  },
  {
   "cell_type": "code",
   "execution_count": 9,
   "metadata": {},
   "outputs": [
    {
     "name": "stdout",
     "output_type": "stream",
     "text": [
      "999\n"
     ]
    }
   ],
   "source": [
    "print(clusteringAffinityPropagation.n_iter_)"
   ]
  },
  {
   "cell_type": "markdown",
   "metadata": {},
   "source": [
    "# Predição"
   ]
  },
  {
   "cell_type": "markdown",
   "metadata": {},
   "source": [
    "### Arbrindo arquivo de teste"
   ]
  },
  {
   "cell_type": "code",
   "execution_count": 10,
   "metadata": {
    "scrolled": true
   },
   "outputs": [
    {
     "data": {
      "text/html": [
       "<div>\n",
       "<style scoped>\n",
       "    .dataframe tbody tr th:only-of-type {\n",
       "        vertical-align: middle;\n",
       "    }\n",
       "\n",
       "    .dataframe tbody tr th {\n",
       "        vertical-align: top;\n",
       "    }\n",
       "\n",
       "    .dataframe thead th {\n",
       "        text-align: right;\n",
       "    }\n",
       "</style>\n",
       "<table border=\"1\" class=\"dataframe\">\n",
       "  <thead>\n",
       "    <tr style=\"text-align: right;\">\n",
       "      <th></th>\n",
       "      <th>Nome</th>\n",
       "      <th>Plataforma</th>\n",
       "      <th>Ano de lancamento</th>\n",
       "      <th>Genero</th>\n",
       "      <th>Publicadora</th>\n",
       "      <th>Vendas NA</th>\n",
       "      <th>Vendas EU</th>\n",
       "      <th>Vendas JP</th>\n",
       "      <th>Outras vendas</th>\n",
       "      <th>Vendas globais</th>\n",
       "      <th>Pontuacao da critica</th>\n",
       "      <th>Contagem de criticas</th>\n",
       "      <th>Pontuacao dos usuarios</th>\n",
       "      <th>Contagem de usuarios</th>\n",
       "      <th>Desenvolvedora</th>\n",
       "      <th>Classificacao</th>\n",
       "      <th>Media de pontuacao</th>\n",
       "    </tr>\n",
       "  </thead>\n",
       "  <tbody>\n",
       "    <tr>\n",
       "      <th>0</th>\n",
       "      <td>Tak and the Guardians of Gross</td>\n",
       "      <td>0</td>\n",
       "      <td>2008</td>\n",
       "      <td>8</td>\n",
       "      <td>28</td>\n",
       "      <td>0.14</td>\n",
       "      <td>0.00</td>\n",
       "      <td>0.00</td>\n",
       "      <td>0.01</td>\n",
       "      <td>0.16</td>\n",
       "      <td>63.0</td>\n",
       "      <td>5.0</td>\n",
       "      <td>8.0</td>\n",
       "      <td>5.0</td>\n",
       "      <td>166</td>\n",
       "      <td>3</td>\n",
       "      <td>35.50</td>\n",
       "    </tr>\n",
       "    <tr>\n",
       "      <th>1</th>\n",
       "      <td>Dynasty Warriors 8: Xtreme Legends</td>\n",
       "      <td>5</td>\n",
       "      <td>2013</td>\n",
       "      <td>8</td>\n",
       "      <td>48</td>\n",
       "      <td>0.02</td>\n",
       "      <td>0.02</td>\n",
       "      <td>0.11</td>\n",
       "      <td>0.01</td>\n",
       "      <td>0.16</td>\n",
       "      <td>68.0</td>\n",
       "      <td>4.0</td>\n",
       "      <td>6.8</td>\n",
       "      <td>9.0</td>\n",
       "      <td>188</td>\n",
       "      <td>2</td>\n",
       "      <td>37.40</td>\n",
       "    </tr>\n",
       "    <tr>\n",
       "      <th>2</th>\n",
       "      <td>Godzilla Unleashed</td>\n",
       "      <td>0</td>\n",
       "      <td>2007</td>\n",
       "      <td>9</td>\n",
       "      <td>10</td>\n",
       "      <td>0.14</td>\n",
       "      <td>0.00</td>\n",
       "      <td>0.00</td>\n",
       "      <td>0.01</td>\n",
       "      <td>0.16</td>\n",
       "      <td>44.0</td>\n",
       "      <td>31.0</td>\n",
       "      <td>7.2</td>\n",
       "      <td>37.0</td>\n",
       "      <td>38</td>\n",
       "      <td>3</td>\n",
       "      <td>25.60</td>\n",
       "    </tr>\n",
       "    <tr>\n",
       "      <th>3</th>\n",
       "      <td>Sherlock Holmes vs. Jack the Ripper</td>\n",
       "      <td>4</td>\n",
       "      <td>2009</td>\n",
       "      <td>10</td>\n",
       "      <td>82</td>\n",
       "      <td>0.11</td>\n",
       "      <td>0.03</td>\n",
       "      <td>0.00</td>\n",
       "      <td>0.01</td>\n",
       "      <td>0.16</td>\n",
       "      <td>62.0</td>\n",
       "      <td>24.0</td>\n",
       "      <td>6.8</td>\n",
       "      <td>14.0</td>\n",
       "      <td>905</td>\n",
       "      <td>2</td>\n",
       "      <td>34.40</td>\n",
       "    </tr>\n",
       "    <tr>\n",
       "      <th>4</th>\n",
       "      <td>Sniper: Ghost Warrior</td>\n",
       "      <td>14</td>\n",
       "      <td>2010</td>\n",
       "      <td>6</td>\n",
       "      <td>86</td>\n",
       "      <td>0.00</td>\n",
       "      <td>0.13</td>\n",
       "      <td>0.00</td>\n",
       "      <td>0.03</td>\n",
       "      <td>0.16</td>\n",
       "      <td>55.0</td>\n",
       "      <td>23.0</td>\n",
       "      <td>5.5</td>\n",
       "      <td>267.0</td>\n",
       "      <td>347</td>\n",
       "      <td>1</td>\n",
       "      <td>30.25</td>\n",
       "    </tr>\n",
       "  </tbody>\n",
       "</table>\n",
       "</div>"
      ],
      "text/plain": [
       "                                  Nome  Plataforma  Ano de lancamento  Genero  \\\n",
       "0       Tak and the Guardians of Gross           0               2008       8   \n",
       "1   Dynasty Warriors 8: Xtreme Legends           5               2013       8   \n",
       "2                   Godzilla Unleashed           0               2007       9   \n",
       "3  Sherlock Holmes vs. Jack the Ripper           4               2009      10   \n",
       "4                Sniper: Ghost Warrior          14               2010       6   \n",
       "\n",
       "   Publicadora  Vendas NA  Vendas EU  Vendas JP  Outras vendas  \\\n",
       "0           28       0.14       0.00       0.00           0.01   \n",
       "1           48       0.02       0.02       0.11           0.01   \n",
       "2           10       0.14       0.00       0.00           0.01   \n",
       "3           82       0.11       0.03       0.00           0.01   \n",
       "4           86       0.00       0.13       0.00           0.03   \n",
       "\n",
       "   Vendas globais  Pontuacao da critica  Contagem de criticas  \\\n",
       "0            0.16                  63.0                   5.0   \n",
       "1            0.16                  68.0                   4.0   \n",
       "2            0.16                  44.0                  31.0   \n",
       "3            0.16                  62.0                  24.0   \n",
       "4            0.16                  55.0                  23.0   \n",
       "\n",
       "   Pontuacao dos usuarios  Contagem de usuarios  Desenvolvedora  \\\n",
       "0                     8.0                   5.0             166   \n",
       "1                     6.8                   9.0             188   \n",
       "2                     7.2                  37.0              38   \n",
       "3                     6.8                  14.0             905   \n",
       "4                     5.5                 267.0             347   \n",
       "\n",
       "   Classificacao  Media de pontuacao  \n",
       "0              3               35.50  \n",
       "1              2               37.40  \n",
       "2              3               25.60  \n",
       "3              2               34.40  \n",
       "4              1               30.25  "
      ]
     },
     "execution_count": 10,
     "metadata": {},
     "output_type": "execute_result"
    }
   ],
   "source": [
    "data = pd.read_csv('teste.csv')\n",
    "data.head()"
   ]
  },
  {
   "cell_type": "markdown",
   "metadata": {},
   "source": [
    "### Criando um dataframe com os atributos importantes para teste"
   ]
  },
  {
   "cell_type": "code",
   "execution_count": 11,
   "metadata": {},
   "outputs": [],
   "source": [
    "teste = pd.DataFrame(data={'Plataforma': data['Plataforma'], 'Genero': data['Genero'], 'Publicadora': data['Publicadora'], 'Desenvolvedora': data['Desenvolvedora'], 'Classificacao': data['Classificacao']})"
   ]
  },
  {
   "cell_type": "markdown",
   "metadata": {},
   "source": [
    "### Criando uma nova coluna para o agrupamento"
   ]
  },
  {
   "cell_type": "code",
   "execution_count": 12,
   "metadata": {},
   "outputs": [],
   "source": [
    "# def predicao(a):\n",
    "#     clusteringAffinityPropagation.predict([a])\n",
    "# data['Agrupamento'] = treino.apply(lambda row: predicao(row), axis=1)"
   ]
  },
  {
   "cell_type": "code",
   "execution_count": 13,
   "metadata": {},
   "outputs": [],
   "source": [
    "def predicao(x):\n",
    "    return clusteringAffinityPropagation.predict([x])[0]\n",
    "data['Agrupamento'] = teste.apply(lambda row: predicao([row['Plataforma'], row['Genero'], row['Publicadora'], row['Desenvolvedora'], row['Classificacao']]), axis=1)"
   ]
  },
  {
   "cell_type": "code",
   "execution_count": 14,
   "metadata": {},
   "outputs": [
    {
     "data": {
      "text/html": [
       "<div>\n",
       "<style scoped>\n",
       "    .dataframe tbody tr th:only-of-type {\n",
       "        vertical-align: middle;\n",
       "    }\n",
       "\n",
       "    .dataframe tbody tr th {\n",
       "        vertical-align: top;\n",
       "    }\n",
       "\n",
       "    .dataframe thead th {\n",
       "        text-align: right;\n",
       "    }\n",
       "</style>\n",
       "<table border=\"1\" class=\"dataframe\">\n",
       "  <thead>\n",
       "    <tr style=\"text-align: right;\">\n",
       "      <th></th>\n",
       "      <th>Plataforma</th>\n",
       "      <th>Genero</th>\n",
       "      <th>Publicadora</th>\n",
       "      <th>Desenvolvedora</th>\n",
       "      <th>Classificacao</th>\n",
       "    </tr>\n",
       "  </thead>\n",
       "  <tbody>\n",
       "    <tr>\n",
       "      <th>0</th>\n",
       "      <td>0</td>\n",
       "      <td>8</td>\n",
       "      <td>28</td>\n",
       "      <td>166</td>\n",
       "      <td>3</td>\n",
       "    </tr>\n",
       "    <tr>\n",
       "      <th>1</th>\n",
       "      <td>5</td>\n",
       "      <td>8</td>\n",
       "      <td>48</td>\n",
       "      <td>188</td>\n",
       "      <td>2</td>\n",
       "    </tr>\n",
       "    <tr>\n",
       "      <th>2</th>\n",
       "      <td>0</td>\n",
       "      <td>9</td>\n",
       "      <td>10</td>\n",
       "      <td>38</td>\n",
       "      <td>3</td>\n",
       "    </tr>\n",
       "    <tr>\n",
       "      <th>3</th>\n",
       "      <td>4</td>\n",
       "      <td>10</td>\n",
       "      <td>82</td>\n",
       "      <td>905</td>\n",
       "      <td>2</td>\n",
       "    </tr>\n",
       "    <tr>\n",
       "      <th>4</th>\n",
       "      <td>14</td>\n",
       "      <td>6</td>\n",
       "      <td>86</td>\n",
       "      <td>347</td>\n",
       "      <td>1</td>\n",
       "    </tr>\n",
       "  </tbody>\n",
       "</table>\n",
       "</div>"
      ],
      "text/plain": [
       "   Plataforma  Genero  Publicadora  Desenvolvedora  Classificacao\n",
       "0           0       8           28             166              3\n",
       "1           5       8           48             188              2\n",
       "2           0       9           10              38              3\n",
       "3           4      10           82             905              2\n",
       "4          14       6           86             347              1"
      ]
     },
     "execution_count": 14,
     "metadata": {},
     "output_type": "execute_result"
    }
   ],
   "source": [
    "teste.head()"
   ]
  },
  {
   "cell_type": "code",
   "execution_count": 15,
   "metadata": {},
   "outputs": [
    {
     "data": {
      "text/html": [
       "<div>\n",
       "<style scoped>\n",
       "    .dataframe tbody tr th:only-of-type {\n",
       "        vertical-align: middle;\n",
       "    }\n",
       "\n",
       "    .dataframe tbody tr th {\n",
       "        vertical-align: top;\n",
       "    }\n",
       "\n",
       "    .dataframe thead th {\n",
       "        text-align: right;\n",
       "    }\n",
       "</style>\n",
       "<table border=\"1\" class=\"dataframe\">\n",
       "  <thead>\n",
       "    <tr style=\"text-align: right;\">\n",
       "      <th></th>\n",
       "      <th>Plataforma</th>\n",
       "      <th>Genero</th>\n",
       "      <th>Publicadora</th>\n",
       "      <th>Desenvolvedora</th>\n",
       "      <th>Classificacao</th>\n",
       "    </tr>\n",
       "  </thead>\n",
       "  <tbody>\n",
       "    <tr>\n",
       "      <th>count</th>\n",
       "      <td>2252.000000</td>\n",
       "      <td>2252.000000</td>\n",
       "      <td>2252.000000</td>\n",
       "      <td>2252.000000</td>\n",
       "      <td>2252.000000</td>\n",
       "    </tr>\n",
       "    <tr>\n",
       "      <th>mean</th>\n",
       "      <td>10.301066</td>\n",
       "      <td>5.597691</td>\n",
       "      <td>68.391652</td>\n",
       "      <td>604.107016</td>\n",
       "      <td>1.390764</td>\n",
       "    </tr>\n",
       "    <tr>\n",
       "      <th>std</th>\n",
       "      <td>5.711402</td>\n",
       "      <td>3.383362</td>\n",
       "      <td>106.377496</td>\n",
       "      <td>477.000197</td>\n",
       "      <td>1.040309</td>\n",
       "    </tr>\n",
       "    <tr>\n",
       "      <th>min</th>\n",
       "      <td>0.000000</td>\n",
       "      <td>0.000000</td>\n",
       "      <td>0.000000</td>\n",
       "      <td>0.000000</td>\n",
       "      <td>0.000000</td>\n",
       "    </tr>\n",
       "    <tr>\n",
       "      <th>25%</th>\n",
       "      <td>5.000000</td>\n",
       "      <td>3.000000</td>\n",
       "      <td>7.000000</td>\n",
       "      <td>185.000000</td>\n",
       "      <td>0.000000</td>\n",
       "    </tr>\n",
       "    <tr>\n",
       "      <th>50%</th>\n",
       "      <td>13.000000</td>\n",
       "      <td>6.000000</td>\n",
       "      <td>23.000000</td>\n",
       "      <td>493.000000</td>\n",
       "      <td>2.000000</td>\n",
       "    </tr>\n",
       "    <tr>\n",
       "      <th>75%</th>\n",
       "      <td>14.000000</td>\n",
       "      <td>8.000000</td>\n",
       "      <td>71.750000</td>\n",
       "      <td>1009.000000</td>\n",
       "      <td>2.000000</td>\n",
       "    </tr>\n",
       "    <tr>\n",
       "      <th>max</th>\n",
       "      <td>22.000000</td>\n",
       "      <td>11.000000</td>\n",
       "      <td>562.000000</td>\n",
       "      <td>1695.000000</td>\n",
       "      <td>7.000000</td>\n",
       "    </tr>\n",
       "  </tbody>\n",
       "</table>\n",
       "</div>"
      ],
      "text/plain": [
       "        Plataforma       Genero  Publicadora  Desenvolvedora  Classificacao\n",
       "count  2252.000000  2252.000000  2252.000000     2252.000000    2252.000000\n",
       "mean     10.301066     5.597691    68.391652      604.107016       1.390764\n",
       "std       5.711402     3.383362   106.377496      477.000197       1.040309\n",
       "min       0.000000     0.000000     0.000000        0.000000       0.000000\n",
       "25%       5.000000     3.000000     7.000000      185.000000       0.000000\n",
       "50%      13.000000     6.000000    23.000000      493.000000       2.000000\n",
       "75%      14.000000     8.000000    71.750000     1009.000000       2.000000\n",
       "max      22.000000    11.000000   562.000000     1695.000000       7.000000"
      ]
     },
     "execution_count": 15,
     "metadata": {},
     "output_type": "execute_result"
    }
   ],
   "source": [
    "teste.describe()"
   ]
  },
  {
   "cell_type": "code",
   "execution_count": 16,
   "metadata": {},
   "outputs": [],
   "source": [
    "a = data['Agrupamento'].unique()"
   ]
  },
  {
   "cell_type": "code",
   "execution_count": 17,
   "metadata": {
    "scrolled": false
   },
   "outputs": [
    {
     "data": {
      "text/plain": [
       "array([  42,   54,   57,   79,   84,   85,  100,  103,  106,  113,  116,\n",
       "        124,  126,  142,  144,  145,  162,  163,  164,  167,  172,  173,\n",
       "        174,  183,  184,  192,  193,  197,  200,  205,  210,  216,  222,\n",
       "        223,  233,  234,  238,  243,  244,  245,  248,  258,  265,  268,\n",
       "        274,  281,  301,  330,  348,  352,  361,  369,  372,  375,  378,\n",
       "        397,  402,  408,  423,  441,  442,  443,  444,  446,  453,  456,\n",
       "        458,  477,  484,  495,  504,  508,  511,  514,  517,  519,  523,\n",
       "        524,  526,  529,  535,  541,  542,  550,  566,  572,  589,  592,\n",
       "        594,  600,  605,  613,  615,  621,  635,  653,  665,  666,  668,\n",
       "        669,  672,  674,  677,  689,  693,  696,  698,  728,  729,  737,\n",
       "        739,  746,  754,  763,  766,  768,  769,  794,  795,  808,  809,\n",
       "        812,  814,  820,  840,  852,  855,  856,  862,  865,  866,  870,\n",
       "        887,  893,  894,  904,  911,  917,  918,  920,  925,  930,  945,\n",
       "        954,  955,  959,  961,  964,  969,  973,  982,  985,  987,  990,\n",
       "        991,  998, 1002, 1004, 1005, 1007, 1009, 1013, 1014, 1016, 1023,\n",
       "       1030, 1031, 1034, 1038, 1042, 1049, 1053, 1054, 1057, 1068, 1069,\n",
       "       1072, 1076, 1079, 1080, 1083, 1100, 1103, 1112, 1114, 1129, 1132,\n",
       "       1135, 1136, 1144, 1146, 1148, 1152, 1153, 1156, 1157, 1161, 1162,\n",
       "       1163, 1164, 1165, 1167, 1168, 1169, 1172, 1175, 1178, 1183])"
      ]
     },
     "execution_count": 17,
     "metadata": {},
     "output_type": "execute_result"
    }
   ],
   "source": [
    "a.sort()\n",
    "a"
   ]
  },
  {
   "cell_type": "code",
   "execution_count": 19,
   "metadata": {},
   "outputs": [
    {
     "data": {
      "text/plain": [
       "21"
      ]
     },
     "execution_count": 19,
     "metadata": {},
     "output_type": "execute_result"
    }
   ],
   "source": [
    "clusteringAffinityPropagation.predict([[4,6,4,7,1],[5,6,4,5,1]])[0]"
   ]
  },
  {
   "cell_type": "code",
   "execution_count": 23,
   "metadata": {},
   "outputs": [
    {
     "data": {
      "text/html": [
       "<div>\n",
       "<style scoped>\n",
       "    .dataframe tbody tr th:only-of-type {\n",
       "        vertical-align: middle;\n",
       "    }\n",
       "\n",
       "    .dataframe tbody tr th {\n",
       "        vertical-align: top;\n",
       "    }\n",
       "\n",
       "    .dataframe thead th {\n",
       "        text-align: right;\n",
       "    }\n",
       "</style>\n",
       "<table border=\"1\" class=\"dataframe\">\n",
       "  <thead>\n",
       "    <tr style=\"text-align: right;\">\n",
       "      <th></th>\n",
       "      <th>Nome</th>\n",
       "      <th>Plataforma</th>\n",
       "      <th>Ano de lancamento</th>\n",
       "      <th>Genero</th>\n",
       "      <th>Publicadora</th>\n",
       "      <th>Vendas NA</th>\n",
       "      <th>Vendas EU</th>\n",
       "      <th>Vendas JP</th>\n",
       "      <th>Outras vendas</th>\n",
       "      <th>Vendas globais</th>\n",
       "      <th>Pontuacao da critica</th>\n",
       "      <th>Contagem de criticas</th>\n",
       "      <th>Pontuacao dos usuarios</th>\n",
       "      <th>Contagem de usuarios</th>\n",
       "      <th>Desenvolvedora</th>\n",
       "      <th>Classificacao</th>\n",
       "      <th>Media de pontuacao</th>\n",
       "      <th>Agrupamento</th>\n",
       "    </tr>\n",
       "  </thead>\n",
       "  <tbody>\n",
       "    <tr>\n",
       "      <th>864</th>\n",
       "      <td>Driver: Renegade</td>\n",
       "      <td>10</td>\n",
       "      <td>2011</td>\n",
       "      <td>2</td>\n",
       "      <td>5</td>\n",
       "      <td>0.05</td>\n",
       "      <td>0.04</td>\n",
       "      <td>0.0</td>\n",
       "      <td>0.01</td>\n",
       "      <td>0.09</td>\n",
       "      <td>48.0</td>\n",
       "      <td>13.0</td>\n",
       "      <td>5.0</td>\n",
       "      <td>20.0</td>\n",
       "      <td>12</td>\n",
       "      <td>1</td>\n",
       "      <td>26.5</td>\n",
       "      <td>42</td>\n",
       "    </tr>\n",
       "  </tbody>\n",
       "</table>\n",
       "</div>"
      ],
      "text/plain": [
       "                 Nome  Plataforma  Ano de lancamento  Genero  Publicadora  \\\n",
       "864  Driver: Renegade          10               2011       2            5   \n",
       "\n",
       "     Vendas NA  Vendas EU  Vendas JP  Outras vendas  Vendas globais  \\\n",
       "864       0.05       0.04        0.0           0.01            0.09   \n",
       "\n",
       "     Pontuacao da critica  Contagem de criticas  Pontuacao dos usuarios  \\\n",
       "864                  48.0                  13.0                     5.0   \n",
       "\n",
       "     Contagem de usuarios  Desenvolvedora  Classificacao  Media de pontuacao  \\\n",
       "864                  20.0              12              1                26.5   \n",
       "\n",
       "     Agrupamento  \n",
       "864           42  "
      ]
     },
     "execution_count": 23,
     "metadata": {},
     "output_type": "execute_result"
    }
   ],
   "source": [
    "data[data['Agrupamento']==42]"
   ]
  },
  {
   "cell_type": "code",
   "execution_count": null,
   "metadata": {},
   "outputs": [],
   "source": [
    "clusteringAffinityPropagation.predict([[4,6]])[0]"
   ]
  },
  {
   "cell_type": "code",
   "execution_count": null,
   "metadata": {
    "scrolled": true
   },
   "outputs": [],
   "source": [
    "data[data['Agrupamento']==14]"
   ]
  },
  {
   "cell_type": "code",
   "execution_count": null,
   "metadata": {},
   "outputs": [],
   "source": []
  }
 ],
 "metadata": {
  "kernelspec": {
   "display_name": "Python 3",
   "language": "python",
   "name": "python3"
  },
  "language_info": {
   "codemirror_mode": {
    "name": "ipython",
    "version": 3
   },
   "file_extension": ".py",
   "mimetype": "text/x-python",
   "name": "python",
   "nbconvert_exporter": "python",
   "pygments_lexer": "ipython3",
   "version": "3.7.0"
  }
 },
 "nbformat": 4,
 "nbformat_minor": 2
}
