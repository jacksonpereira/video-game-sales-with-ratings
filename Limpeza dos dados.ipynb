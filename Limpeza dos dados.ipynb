{
 "cells": [
  {
   "cell_type": "markdown",
   "metadata": {},
   "source": [
    "# Importando as bibliotecas e o dataset"
   ]
  },
  {
   "cell_type": "code",
   "execution_count": 1,
   "metadata": {},
   "outputs": [
    {
     "data": {
      "text/html": [
       "<div>\n",
       "<style scoped>\n",
       "    .dataframe tbody tr th:only-of-type {\n",
       "        vertical-align: middle;\n",
       "    }\n",
       "\n",
       "    .dataframe tbody tr th {\n",
       "        vertical-align: top;\n",
       "    }\n",
       "\n",
       "    .dataframe thead th {\n",
       "        text-align: right;\n",
       "    }\n",
       "</style>\n",
       "<table border=\"1\" class=\"dataframe\">\n",
       "  <thead>\n",
       "    <tr style=\"text-align: right;\">\n",
       "      <th></th>\n",
       "      <th>Nome</th>\n",
       "      <th>Plataforma</th>\n",
       "      <th>Ano de lançamento</th>\n",
       "      <th>Gênero</th>\n",
       "      <th>Publicadora</th>\n",
       "      <th>Vendas NA</th>\n",
       "      <th>Vendas EU</th>\n",
       "      <th>Vendas JP</th>\n",
       "      <th>Outras vendas</th>\n",
       "      <th>Vendas globais</th>\n",
       "      <th>Pontuação da crítica</th>\n",
       "      <th>Contagem de críticas</th>\n",
       "      <th>Pontuação dos usuários</th>\n",
       "      <th>Contagem de usuários</th>\n",
       "      <th>Desenvolvedora</th>\n",
       "      <th>Classificação</th>\n",
       "    </tr>\n",
       "  </thead>\n",
       "  <tbody>\n",
       "    <tr>\n",
       "      <th>0</th>\n",
       "      <td>Wii Sports</td>\n",
       "      <td>Wii</td>\n",
       "      <td>2006.0</td>\n",
       "      <td>Sports</td>\n",
       "      <td>Nintendo</td>\n",
       "      <td>41.36</td>\n",
       "      <td>28.96</td>\n",
       "      <td>3.77</td>\n",
       "      <td>8.45</td>\n",
       "      <td>82.53</td>\n",
       "      <td>76.0</td>\n",
       "      <td>51.0</td>\n",
       "      <td>8</td>\n",
       "      <td>322.0</td>\n",
       "      <td>Nintendo</td>\n",
       "      <td>E</td>\n",
       "    </tr>\n",
       "    <tr>\n",
       "      <th>1</th>\n",
       "      <td>Super Mario Bros.</td>\n",
       "      <td>NES</td>\n",
       "      <td>1985.0</td>\n",
       "      <td>Platform</td>\n",
       "      <td>Nintendo</td>\n",
       "      <td>29.08</td>\n",
       "      <td>3.58</td>\n",
       "      <td>6.81</td>\n",
       "      <td>0.77</td>\n",
       "      <td>40.24</td>\n",
       "      <td>NaN</td>\n",
       "      <td>NaN</td>\n",
       "      <td>NaN</td>\n",
       "      <td>NaN</td>\n",
       "      <td>NaN</td>\n",
       "      <td>NaN</td>\n",
       "    </tr>\n",
       "    <tr>\n",
       "      <th>2</th>\n",
       "      <td>Mario Kart Wii</td>\n",
       "      <td>Wii</td>\n",
       "      <td>2008.0</td>\n",
       "      <td>Racing</td>\n",
       "      <td>Nintendo</td>\n",
       "      <td>15.68</td>\n",
       "      <td>12.76</td>\n",
       "      <td>3.79</td>\n",
       "      <td>3.29</td>\n",
       "      <td>35.52</td>\n",
       "      <td>82.0</td>\n",
       "      <td>73.0</td>\n",
       "      <td>8.3</td>\n",
       "      <td>709.0</td>\n",
       "      <td>Nintendo</td>\n",
       "      <td>E</td>\n",
       "    </tr>\n",
       "    <tr>\n",
       "      <th>3</th>\n",
       "      <td>Wii Sports Resort</td>\n",
       "      <td>Wii</td>\n",
       "      <td>2009.0</td>\n",
       "      <td>Sports</td>\n",
       "      <td>Nintendo</td>\n",
       "      <td>15.61</td>\n",
       "      <td>10.93</td>\n",
       "      <td>3.28</td>\n",
       "      <td>2.95</td>\n",
       "      <td>32.77</td>\n",
       "      <td>80.0</td>\n",
       "      <td>73.0</td>\n",
       "      <td>8</td>\n",
       "      <td>192.0</td>\n",
       "      <td>Nintendo</td>\n",
       "      <td>E</td>\n",
       "    </tr>\n",
       "    <tr>\n",
       "      <th>4</th>\n",
       "      <td>Pokemon Red/Pokemon Blue</td>\n",
       "      <td>GB</td>\n",
       "      <td>1996.0</td>\n",
       "      <td>Role-Playing</td>\n",
       "      <td>Nintendo</td>\n",
       "      <td>11.27</td>\n",
       "      <td>8.89</td>\n",
       "      <td>10.22</td>\n",
       "      <td>1.00</td>\n",
       "      <td>31.37</td>\n",
       "      <td>NaN</td>\n",
       "      <td>NaN</td>\n",
       "      <td>NaN</td>\n",
       "      <td>NaN</td>\n",
       "      <td>NaN</td>\n",
       "      <td>NaN</td>\n",
       "    </tr>\n",
       "  </tbody>\n",
       "</table>\n",
       "</div>"
      ],
      "text/plain": [
       "                       Nome Plataforma  Ano de lançamento        Gênero  \\\n",
       "0                Wii Sports        Wii             2006.0        Sports   \n",
       "1         Super Mario Bros.        NES             1985.0      Platform   \n",
       "2            Mario Kart Wii        Wii             2008.0        Racing   \n",
       "3         Wii Sports Resort        Wii             2009.0        Sports   \n",
       "4  Pokemon Red/Pokemon Blue         GB             1996.0  Role-Playing   \n",
       "\n",
       "  Publicadora  Vendas NA  Vendas EU  Vendas JP  Outras vendas  Vendas globais  \\\n",
       "0    Nintendo      41.36      28.96       3.77           8.45           82.53   \n",
       "1    Nintendo      29.08       3.58       6.81           0.77           40.24   \n",
       "2    Nintendo      15.68      12.76       3.79           3.29           35.52   \n",
       "3    Nintendo      15.61      10.93       3.28           2.95           32.77   \n",
       "4    Nintendo      11.27       8.89      10.22           1.00           31.37   \n",
       "\n",
       "   Pontuação da crítica  Contagem de críticas Pontuação dos usuários  \\\n",
       "0                  76.0                  51.0                      8   \n",
       "1                   NaN                   NaN                    NaN   \n",
       "2                  82.0                  73.0                    8.3   \n",
       "3                  80.0                  73.0                      8   \n",
       "4                   NaN                   NaN                    NaN   \n",
       "\n",
       "   Contagem de usuários Desenvolvedora Classificação  \n",
       "0                 322.0       Nintendo             E  \n",
       "1                   NaN            NaN           NaN  \n",
       "2                 709.0       Nintendo             E  \n",
       "3                 192.0       Nintendo             E  \n",
       "4                   NaN            NaN           NaN  "
      ]
     },
     "execution_count": 1,
     "metadata": {},
     "output_type": "execute_result"
    }
   ],
   "source": [
    "import pandas as pd\n",
    "import matplotlib.pyplot as plt\n",
    "%matplotlib inline\n",
    "import numpy as np\n",
    "\n",
    "data = pd.read_csv('datasets/video-game-sales-with-ratings/Video_Games_Sales_as_at_22_Dec_2016.csv')\n",
    "data.columns = ['Nome', 'Plataforma', 'Ano de lançamento', 'Gênero', 'Publicadora', 'Vendas NA', 'Vendas EU', 'Vendas JP', 'Outras vendas', 'Vendas globais', 'Pontuação da crítica', 'Contagem de críticas', 'Pontuação dos usuários', 'Contagem de usuários', 'Desenvolvedora', 'Classificação']\n",
    "data.head()"
   ]
  },
  {
   "cell_type": "markdown",
   "metadata": {},
   "source": [
    "## Informações do dataset"
   ]
  },
  {
   "cell_type": "markdown",
   "metadata": {},
   "source": [
    "### Informações gerais"
   ]
  },
  {
   "cell_type": "code",
   "execution_count": 2,
   "metadata": {
    "scrolled": true
   },
   "outputs": [
    {
     "name": "stdout",
     "output_type": "stream",
     "text": [
      "<class 'pandas.core.frame.DataFrame'>\n",
      "RangeIndex: 16719 entries, 0 to 16718\n",
      "Data columns (total 16 columns):\n",
      "Nome                      16717 non-null object\n",
      "Plataforma                16719 non-null object\n",
      "Ano de lançamento         16450 non-null float64\n",
      "Gênero                    16717 non-null object\n",
      "Publicadora               16665 non-null object\n",
      "Vendas NA                 16719 non-null float64\n",
      "Vendas EU                 16719 non-null float64\n",
      "Vendas JP                 16719 non-null float64\n",
      "Outras vendas             16719 non-null float64\n",
      "Vendas globais            16719 non-null float64\n",
      "Pontuação da crítica      8137 non-null float64\n",
      "Contagem de críticas      8137 non-null float64\n",
      "Pontuação dos usuários    10015 non-null object\n",
      "Contagem de usuários      7590 non-null float64\n",
      "Desenvolvedora            10096 non-null object\n",
      "Classificação             9950 non-null object\n",
      "dtypes: float64(9), object(7)\n",
      "memory usage: 2.0+ MB\n"
     ]
    }
   ],
   "source": [
    "data.info()"
   ]
  },
  {
   "cell_type": "markdown",
   "metadata": {},
   "source": [
    "### Estatísticas descritivas"
   ]
  },
  {
   "cell_type": "code",
   "execution_count": 3,
   "metadata": {},
   "outputs": [
    {
     "data": {
      "text/html": [
       "<div>\n",
       "<style scoped>\n",
       "    .dataframe tbody tr th:only-of-type {\n",
       "        vertical-align: middle;\n",
       "    }\n",
       "\n",
       "    .dataframe tbody tr th {\n",
       "        vertical-align: top;\n",
       "    }\n",
       "\n",
       "    .dataframe thead th {\n",
       "        text-align: right;\n",
       "    }\n",
       "</style>\n",
       "<table border=\"1\" class=\"dataframe\">\n",
       "  <thead>\n",
       "    <tr style=\"text-align: right;\">\n",
       "      <th></th>\n",
       "      <th>Ano de lançamento</th>\n",
       "      <th>Vendas NA</th>\n",
       "      <th>Vendas EU</th>\n",
       "      <th>Vendas JP</th>\n",
       "      <th>Outras vendas</th>\n",
       "      <th>Vendas globais</th>\n",
       "      <th>Pontuação da crítica</th>\n",
       "      <th>Contagem de críticas</th>\n",
       "      <th>Contagem de usuários</th>\n",
       "    </tr>\n",
       "  </thead>\n",
       "  <tbody>\n",
       "    <tr>\n",
       "      <th>count</th>\n",
       "      <td>16450.000000</td>\n",
       "      <td>16719.000000</td>\n",
       "      <td>16719.000000</td>\n",
       "      <td>16719.000000</td>\n",
       "      <td>16719.000000</td>\n",
       "      <td>16719.000000</td>\n",
       "      <td>8137.000000</td>\n",
       "      <td>8137.000000</td>\n",
       "      <td>7590.000000</td>\n",
       "    </tr>\n",
       "    <tr>\n",
       "      <th>mean</th>\n",
       "      <td>2006.487356</td>\n",
       "      <td>0.263330</td>\n",
       "      <td>0.145025</td>\n",
       "      <td>0.077602</td>\n",
       "      <td>0.047332</td>\n",
       "      <td>0.533543</td>\n",
       "      <td>68.967679</td>\n",
       "      <td>26.360821</td>\n",
       "      <td>162.229908</td>\n",
       "    </tr>\n",
       "    <tr>\n",
       "      <th>std</th>\n",
       "      <td>5.878995</td>\n",
       "      <td>0.813514</td>\n",
       "      <td>0.503283</td>\n",
       "      <td>0.308818</td>\n",
       "      <td>0.186710</td>\n",
       "      <td>1.547935</td>\n",
       "      <td>13.938165</td>\n",
       "      <td>18.980495</td>\n",
       "      <td>561.282326</td>\n",
       "    </tr>\n",
       "    <tr>\n",
       "      <th>min</th>\n",
       "      <td>1980.000000</td>\n",
       "      <td>0.000000</td>\n",
       "      <td>0.000000</td>\n",
       "      <td>0.000000</td>\n",
       "      <td>0.000000</td>\n",
       "      <td>0.010000</td>\n",
       "      <td>13.000000</td>\n",
       "      <td>3.000000</td>\n",
       "      <td>4.000000</td>\n",
       "    </tr>\n",
       "    <tr>\n",
       "      <th>25%</th>\n",
       "      <td>2003.000000</td>\n",
       "      <td>0.000000</td>\n",
       "      <td>0.000000</td>\n",
       "      <td>0.000000</td>\n",
       "      <td>0.000000</td>\n",
       "      <td>0.060000</td>\n",
       "      <td>60.000000</td>\n",
       "      <td>12.000000</td>\n",
       "      <td>10.000000</td>\n",
       "    </tr>\n",
       "    <tr>\n",
       "      <th>50%</th>\n",
       "      <td>2007.000000</td>\n",
       "      <td>0.080000</td>\n",
       "      <td>0.020000</td>\n",
       "      <td>0.000000</td>\n",
       "      <td>0.010000</td>\n",
       "      <td>0.170000</td>\n",
       "      <td>71.000000</td>\n",
       "      <td>21.000000</td>\n",
       "      <td>24.000000</td>\n",
       "    </tr>\n",
       "    <tr>\n",
       "      <th>75%</th>\n",
       "      <td>2010.000000</td>\n",
       "      <td>0.240000</td>\n",
       "      <td>0.110000</td>\n",
       "      <td>0.040000</td>\n",
       "      <td>0.030000</td>\n",
       "      <td>0.470000</td>\n",
       "      <td>79.000000</td>\n",
       "      <td>36.000000</td>\n",
       "      <td>81.000000</td>\n",
       "    </tr>\n",
       "    <tr>\n",
       "      <th>max</th>\n",
       "      <td>2020.000000</td>\n",
       "      <td>41.360000</td>\n",
       "      <td>28.960000</td>\n",
       "      <td>10.220000</td>\n",
       "      <td>10.570000</td>\n",
       "      <td>82.530000</td>\n",
       "      <td>98.000000</td>\n",
       "      <td>113.000000</td>\n",
       "      <td>10665.000000</td>\n",
       "    </tr>\n",
       "  </tbody>\n",
       "</table>\n",
       "</div>"
      ],
      "text/plain": [
       "       Ano de lançamento     Vendas NA     Vendas EU     Vendas JP  \\\n",
       "count       16450.000000  16719.000000  16719.000000  16719.000000   \n",
       "mean         2006.487356      0.263330      0.145025      0.077602   \n",
       "std             5.878995      0.813514      0.503283      0.308818   \n",
       "min          1980.000000      0.000000      0.000000      0.000000   \n",
       "25%          2003.000000      0.000000      0.000000      0.000000   \n",
       "50%          2007.000000      0.080000      0.020000      0.000000   \n",
       "75%          2010.000000      0.240000      0.110000      0.040000   \n",
       "max          2020.000000     41.360000     28.960000     10.220000   \n",
       "\n",
       "       Outras vendas  Vendas globais  Pontuação da crítica  \\\n",
       "count   16719.000000    16719.000000           8137.000000   \n",
       "mean        0.047332        0.533543             68.967679   \n",
       "std         0.186710        1.547935             13.938165   \n",
       "min         0.000000        0.010000             13.000000   \n",
       "25%         0.000000        0.060000             60.000000   \n",
       "50%         0.010000        0.170000             71.000000   \n",
       "75%         0.030000        0.470000             79.000000   \n",
       "max        10.570000       82.530000             98.000000   \n",
       "\n",
       "       Contagem de críticas  Contagem de usuários  \n",
       "count           8137.000000           7590.000000  \n",
       "mean              26.360821            162.229908  \n",
       "std               18.980495            561.282326  \n",
       "min                3.000000              4.000000  \n",
       "25%               12.000000             10.000000  \n",
       "50%               21.000000             24.000000  \n",
       "75%               36.000000             81.000000  \n",
       "max              113.000000          10665.000000  "
      ]
     },
     "execution_count": 3,
     "metadata": {},
     "output_type": "execute_result"
    }
   ],
   "source": [
    "data.describe()"
   ]
  },
  {
   "cell_type": "markdown",
   "metadata": {},
   "source": [
    "### Anotações imediatas"
   ]
  },
  {
   "cell_type": "markdown",
   "metadata": {},
   "source": [
    "A princípio penso em focar nas colunas Genre, Platform, Global_Sales, Critic_Score, User_Score e Rating."
   ]
  },
  {
   "cell_type": "markdown",
   "metadata": {},
   "source": [
    "## Limpando os dados"
   ]
  },
  {
   "cell_type": "markdown",
   "metadata": {},
   "source": [
    "### Alterando valores da coluna Gênero"
   ]
  },
  {
   "cell_type": "code",
   "execution_count": 4,
   "metadata": {},
   "outputs": [],
   "source": [
    "generos = data['Gênero'].copy()\n",
    "generos[generos== 'Sports'] = 0\n",
    "generos[generos== 'Platform'] = 1\n",
    "generos[generos== 'Racing'] = 2\n",
    "generos[generos== 'Role-Playing'] = 3\n",
    "generos[generos== 'Puzzle'] = 4\n",
    "generos[generos== 'Misc'] = 5\n",
    "generos[generos== 'Shooter'] = 6\n",
    "generos[generos== 'Simulation'] = 7\n",
    "generos[generos== 'Action'] = 8\n",
    "generos[generos== 'Fighting'] = 9\n",
    "generos[generos== 'Adventure'] = 10\n",
    "generos[generos== 'Strategy'] = 11\n",
    "data['Gênero'] = generos"
   ]
  },
  {
   "cell_type": "markdown",
   "metadata": {},
   "source": [
    "### Alterando valores da coluna Platform"
   ]
  },
  {
   "cell_type": "code",
   "execution_count": 5,
   "metadata": {},
   "outputs": [],
   "source": [
    "plataforma = data['Plataforma'].copy()\n",
    "plataforma[plataforma == 'Wii'] = 0\n",
    "plataforma[plataforma == 'NES'] = 1\n",
    "plataforma[plataforma == 'GB'] = 2\n",
    "plataforma[plataforma == 'DS'] = 3\n",
    "plataforma[plataforma == 'X360'] = 4\n",
    "plataforma[plataforma == 'PS3'] = 5\n",
    "plataforma[plataforma == 'PS2'] = 6\n",
    "plataforma[plataforma == 'SNES'] = 7\n",
    "plataforma[plataforma == 'GBA'] = 8\n",
    "plataforma[plataforma == 'PS4'] = 9\n",
    "plataforma[plataforma == '3DS'] = 10\n",
    "plataforma[plataforma == 'N64'] = 11\n",
    "plataforma[plataforma == 'PS'] = 12\n",
    "plataforma[plataforma == 'XB'] = 13\n",
    "plataforma[plataforma == 'PC'] = 14\n",
    "plataforma[plataforma == '2600'] = 15\n",
    "plataforma[plataforma == 'PSP'] = 16\n",
    "plataforma[plataforma == 'XOne'] = 17\n",
    "plataforma[plataforma == 'WiiU'] = 18\n",
    "plataforma[plataforma == 'GC'] = 19\n",
    "plataforma[plataforma == 'GEN'] = 20\n",
    "plataforma[plataforma == 'DC'] = 21\n",
    "plataforma[plataforma == 'PSV'] = 22\n",
    "plataforma[plataforma == 'SAT'] = 23\n",
    "plataforma[plataforma == 'SCD'] = 24\n",
    "plataforma[plataforma == 'WS'] = 25\n",
    "plataforma[plataforma == 'NG'] = 26\n",
    "plataforma[plataforma == 'TG16'] = 27\n",
    "plataforma[plataforma == '3DO'] = 28\n",
    "plataforma[plataforma == 'GG'] = 29\n",
    "plataforma[plataforma == 'PCFX'] = 30\n",
    "data['Plataforma'] = plataforma"
   ]
  },
  {
   "cell_type": "markdown",
   "metadata": {},
   "source": [
    "### Alterando valores da coluna Classificação"
   ]
  },
  {
   "cell_type": "code",
   "execution_count": 6,
   "metadata": {},
   "outputs": [],
   "source": [
    "#1      E\n",
    "#2      M\n",
    "#3      T\n",
    "#4      E10+\n",
    "#5      K-A\n",
    "#6      AO\n",
    "#7      EC\n",
    "#8      RP\n",
    "\n",
    "classificacao = data['Classificação'].copy()\n",
    "classificacao[classificacao == 'E'] = 0\n",
    "classificacao[classificacao == 'M'] = 1\n",
    "classificacao[classificacao == 'T'] = 2\n",
    "classificacao[classificacao == 'E10+'] = 3\n",
    "classificacao[classificacao == 'K-A'] = 4\n",
    "classificacao[classificacao == 'AO'] = 5\n",
    "classificacao[classificacao == 'EC'] = 6\n",
    "classificacao[classificacao == 'RP'] = 7\n",
    "data['Classificação'] = classificacao"
   ]
  },
  {
   "cell_type": "markdown",
   "metadata": {},
   "source": [
    "### Preenchendo valores vazios de colunas quantitativas"
   ]
  },
  {
   "cell_type": "code",
   "execution_count": 7,
   "metadata": {},
   "outputs": [],
   "source": [
    "data['Pontuação da crítica'] = data['Pontuação da crítica'].fillna(data['Pontuação da crítica'].mean())\n",
    "data['Contagem de críticas'] = data['Contagem de críticas'].fillna(data['Contagem de críticas'].mean())\n",
    "data['Contagem de usuários'] = data['Contagem de usuários'].fillna(data['Contagem de usuários'].mean())\n",
    "# Falta apenas 'Pontuação dos usuários'\n",
    "\n",
    "data[data['Pontuação dos usuários'] == 'tbd'] = np.nan\n",
    "data['Pontuação dos usuários'] = data['Pontuação dos usuários'].astype('float64')\n",
    "data['Pontuação dos usuários'] = data['Pontuação dos usuários'].fillna(data['Pontuação dos usuários'].mean())"
   ]
  },
  {
   "cell_type": "markdown",
   "metadata": {},
   "source": [
    "### Preenchendo valores vazios de colunas qualitativas"
   ]
  },
  {
   "cell_type": "code",
   "execution_count": 13,
   "metadata": {},
   "outputs": [
    {
     "ename": "AttributeError",
     "evalue": "'numpy.float64' object has no attribute 'median'",
     "output_type": "error",
     "traceback": [
      "\u001b[0;31m---------------------------------------------------------------------------\u001b[0m",
      "\u001b[0;31mAttributeError\u001b[0m                            Traceback (most recent call last)",
      "\u001b[0;32m<ipython-input-13-24707c38686f>\u001b[0m in \u001b[0;36m<module>\u001b[0;34m()\u001b[0m\n\u001b[0;32m----> 1\u001b[0;31m \u001b[0mdata\u001b[0m\u001b[0;34m[\u001b[0m\u001b[0;34m'Plataforma'\u001b[0m\u001b[0;34m]\u001b[0m\u001b[0;34m.\u001b[0m\u001b[0mmedian\u001b[0m\u001b[0;34m(\u001b[0m\u001b[0;34m)\u001b[0m\u001b[0;34m\u001b[0m\u001b[0m\n\u001b[0m",
      "\u001b[0;31mAttributeError\u001b[0m: 'numpy.float64' object has no attribute 'median'"
     ]
    }
   ],
   "source": [
    "data['Plataforma'].median()"
   ]
  },
  {
   "cell_type": "markdown",
   "metadata": {},
   "source": [
    "### Retirando valore vazios restantes"
   ]
  },
  {
   "cell_type": "code",
   "execution_count": 9,
   "metadata": {},
   "outputs": [],
   "source": [
    "# data.dropna()\n",
    "# data.describe()\n",
    "# data['Contagem de usuários'].notnull().sum()\n",
    "data = data[data['Nome'].notnull()].count()"
   ]
  },
  {
   "cell_type": "markdown",
   "metadata": {},
   "source": [
    "### Criando uma coluna com as médias de pontuação"
   ]
  },
  {
   "cell_type": "code",
   "execution_count": 10,
   "metadata": {},
   "outputs": [
    {
     "ename": "TypeError",
     "evalue": "<lambda>() got an unexpected keyword argument 'axis'",
     "output_type": "error",
     "traceback": [
      "\u001b[0;31m---------------------------------------------------------------------------\u001b[0m",
      "\u001b[0;31mTypeError\u001b[0m                                 Traceback (most recent call last)",
      "\u001b[0;32m<ipython-input-10-9d2ad16d8156>\u001b[0m in \u001b[0;36m<module>\u001b[0;34m()\u001b[0m\n\u001b[1;32m      2\u001b[0m \u001b[0;32mdef\u001b[0m \u001b[0mmedia\u001b[0m\u001b[0;34m(\u001b[0m\u001b[0mx\u001b[0m\u001b[0;34m,\u001b[0m \u001b[0my\u001b[0m\u001b[0;34m)\u001b[0m\u001b[0;34m:\u001b[0m\u001b[0;34m\u001b[0m\u001b[0m\n\u001b[1;32m      3\u001b[0m     \u001b[0;32mreturn\u001b[0m \u001b[0;34m(\u001b[0m\u001b[0mx\u001b[0m\u001b[0;34m+\u001b[0m\u001b[0my\u001b[0m\u001b[0;34m)\u001b[0m\u001b[0;34m/\u001b[0m\u001b[0;36m2\u001b[0m\u001b[0;34m\u001b[0m\u001b[0m\n\u001b[0;32m----> 4\u001b[0;31m \u001b[0mdata\u001b[0m\u001b[0;34m[\u001b[0m\u001b[0;34m'Média de pontuação'\u001b[0m\u001b[0;34m]\u001b[0m \u001b[0;34m=\u001b[0m \u001b[0mdata\u001b[0m\u001b[0;34m.\u001b[0m\u001b[0mapply\u001b[0m\u001b[0;34m(\u001b[0m\u001b[0;32mlambda\u001b[0m \u001b[0mrow\u001b[0m\u001b[0;34m:\u001b[0m \u001b[0mmedia\u001b[0m\u001b[0;34m(\u001b[0m\u001b[0mrow\u001b[0m\u001b[0;34m[\u001b[0m\u001b[0;34m'Pontuação da crítica'\u001b[0m\u001b[0;34m]\u001b[0m\u001b[0;34m,\u001b[0m \u001b[0mrow\u001b[0m\u001b[0;34m[\u001b[0m\u001b[0;34m'Pontuação dos usuários'\u001b[0m\u001b[0;34m]\u001b[0m\u001b[0;34m)\u001b[0m\u001b[0;34m,\u001b[0m \u001b[0maxis\u001b[0m\u001b[0;34m=\u001b[0m\u001b[0;36m1\u001b[0m\u001b[0;34m)\u001b[0m\u001b[0;34m\u001b[0m\u001b[0m\n\u001b[0m\u001b[1;32m      5\u001b[0m \u001b[0mdata\u001b[0m\u001b[0;34m.\u001b[0m\u001b[0mhead\u001b[0m\u001b[0;34m(\u001b[0m\u001b[0;34m)\u001b[0m\u001b[0;34m\u001b[0m\u001b[0m\n",
      "\u001b[0;32m~/anaconda3/lib/python3.6/site-packages/pandas/core/series.py\u001b[0m in \u001b[0;36mapply\u001b[0;34m(self, func, convert_dtype, args, **kwds)\u001b[0m\n\u001b[1;32m   3190\u001b[0m             \u001b[0;32melse\u001b[0m\u001b[0;34m:\u001b[0m\u001b[0;34m\u001b[0m\u001b[0m\n\u001b[1;32m   3191\u001b[0m                 \u001b[0mvalues\u001b[0m \u001b[0;34m=\u001b[0m \u001b[0mself\u001b[0m\u001b[0;34m.\u001b[0m\u001b[0mastype\u001b[0m\u001b[0;34m(\u001b[0m\u001b[0mobject\u001b[0m\u001b[0;34m)\u001b[0m\u001b[0;34m.\u001b[0m\u001b[0mvalues\u001b[0m\u001b[0;34m\u001b[0m\u001b[0m\n\u001b[0;32m-> 3192\u001b[0;31m                 \u001b[0mmapped\u001b[0m \u001b[0;34m=\u001b[0m \u001b[0mlib\u001b[0m\u001b[0;34m.\u001b[0m\u001b[0mmap_infer\u001b[0m\u001b[0;34m(\u001b[0m\u001b[0mvalues\u001b[0m\u001b[0;34m,\u001b[0m \u001b[0mf\u001b[0m\u001b[0;34m,\u001b[0m \u001b[0mconvert\u001b[0m\u001b[0;34m=\u001b[0m\u001b[0mconvert_dtype\u001b[0m\u001b[0;34m)\u001b[0m\u001b[0;34m\u001b[0m\u001b[0m\n\u001b[0m\u001b[1;32m   3193\u001b[0m \u001b[0;34m\u001b[0m\u001b[0m\n\u001b[1;32m   3194\u001b[0m         \u001b[0;32mif\u001b[0m \u001b[0mlen\u001b[0m\u001b[0;34m(\u001b[0m\u001b[0mmapped\u001b[0m\u001b[0;34m)\u001b[0m \u001b[0;32mand\u001b[0m \u001b[0misinstance\u001b[0m\u001b[0;34m(\u001b[0m\u001b[0mmapped\u001b[0m\u001b[0;34m[\u001b[0m\u001b[0;36m0\u001b[0m\u001b[0;34m]\u001b[0m\u001b[0;34m,\u001b[0m \u001b[0mSeries\u001b[0m\u001b[0;34m)\u001b[0m\u001b[0;34m:\u001b[0m\u001b[0;34m\u001b[0m\u001b[0m\n",
      "\u001b[0;32mpandas/_libs/src/inference.pyx\u001b[0m in \u001b[0;36mpandas._libs.lib.map_infer\u001b[0;34m()\u001b[0m\n",
      "\u001b[0;32m~/anaconda3/lib/python3.6/site-packages/pandas/core/series.py\u001b[0m in \u001b[0;36m<lambda>\u001b[0;34m(x)\u001b[0m\n\u001b[1;32m   3177\u001b[0m         \u001b[0;31m# handle ufuncs and lambdas\u001b[0m\u001b[0;34m\u001b[0m\u001b[0;34m\u001b[0m\u001b[0m\n\u001b[1;32m   3178\u001b[0m         \u001b[0;32mif\u001b[0m \u001b[0mkwds\u001b[0m \u001b[0;32mor\u001b[0m \u001b[0margs\u001b[0m \u001b[0;32mand\u001b[0m \u001b[0;32mnot\u001b[0m \u001b[0misinstance\u001b[0m\u001b[0;34m(\u001b[0m\u001b[0mfunc\u001b[0m\u001b[0;34m,\u001b[0m \u001b[0mnp\u001b[0m\u001b[0;34m.\u001b[0m\u001b[0mufunc\u001b[0m\u001b[0;34m)\u001b[0m\u001b[0;34m:\u001b[0m\u001b[0;34m\u001b[0m\u001b[0m\n\u001b[0;32m-> 3179\u001b[0;31m             \u001b[0mf\u001b[0m \u001b[0;34m=\u001b[0m \u001b[0;32mlambda\u001b[0m \u001b[0mx\u001b[0m\u001b[0;34m:\u001b[0m \u001b[0mfunc\u001b[0m\u001b[0;34m(\u001b[0m\u001b[0mx\u001b[0m\u001b[0;34m,\u001b[0m \u001b[0;34m*\u001b[0m\u001b[0margs\u001b[0m\u001b[0;34m,\u001b[0m \u001b[0;34m**\u001b[0m\u001b[0mkwds\u001b[0m\u001b[0;34m)\u001b[0m\u001b[0;34m\u001b[0m\u001b[0m\n\u001b[0m\u001b[1;32m   3180\u001b[0m         \u001b[0;32melse\u001b[0m\u001b[0;34m:\u001b[0m\u001b[0;34m\u001b[0m\u001b[0m\n\u001b[1;32m   3181\u001b[0m             \u001b[0mf\u001b[0m \u001b[0;34m=\u001b[0m \u001b[0mfunc\u001b[0m\u001b[0;34m\u001b[0m\u001b[0m\n",
      "\u001b[0;31mTypeError\u001b[0m: <lambda>() got an unexpected keyword argument 'axis'"
     ]
    }
   ],
   "source": [
    "data['Média de pontuação'] = 0.0\n",
    "def media(x, y):\n",
    "    return (x+y)/2\n",
    "data['Média de pontuação'] = data.apply(lambda row: media(row['Pontuação da crítica'], row['Pontuação dos usuários']), axis=1)\n",
    "data.head()"
   ]
  },
  {
   "cell_type": "markdown",
   "metadata": {},
   "source": [
    "### Informações finais do Dataframe"
   ]
  },
  {
   "cell_type": "code",
   "execution_count": null,
   "metadata": {},
   "outputs": [],
   "source": [
    "data.describe()"
   ]
  },
  {
   "cell_type": "code",
   "execution_count": null,
   "metadata": {},
   "outputs": [],
   "source": [
    "data.info()"
   ]
  },
  {
   "cell_type": "markdown",
   "metadata": {},
   "source": [
    "### Salvando arquivo"
   ]
  },
  {
   "cell_type": "code",
   "execution_count": null,
   "metadata": {},
   "outputs": [],
   "source": [
    "fileCleaned = pd.DataFrame(data={'Platform': data['Platform'], 'Genre': data['Genre'], 'Global_Sales': data['Global_Sales'],\n",
    "     'Critic_Score': data['Critic_Score'], 'User_Score': data['User_Score'], 'Rating': data['Rating'], 'Score_Mean': data['Score_Mean']})\n",
    "fileCleaned.dropna().to_csv(r'fileCleaned.csv', sep=',', index=False)"
   ]
  },
  {
   "cell_type": "markdown",
   "metadata": {},
   "source": [
    "### Abrindo arquivo novamente"
   ]
  },
  {
   "cell_type": "code",
   "execution_count": null,
   "metadata": {},
   "outputs": [],
   "source": [
    "data = pd.read_csv('fileCleaned.csv')\n",
    "data.info()"
   ]
  },
  {
   "cell_type": "markdown",
   "metadata": {},
   "source": [
    "### Criando um DataFrame só com os valores importantes"
   ]
  },
  {
   "cell_type": "code",
   "execution_count": null,
   "metadata": {},
   "outputs": [],
   "source": [
    "data = pd.DataFrame(data={'Platform': data['Platform'], 'Genre': data['Genre'], 'Global_Sales': data['Global_Sales'],\n",
    "     'Rating': data['Rating'], 'Score_Mean': data['Score_Mean']})"
   ]
  },
  {
   "cell_type": "markdown",
   "metadata": {},
   "source": [
    "### Retirando valores duplicados"
   ]
  },
  {
   "cell_type": "code",
   "execution_count": null,
   "metadata": {},
   "outputs": [],
   "source": [
    "data = data.drop_duplicates()\n",
    "data.dropna().to_csv(r'fileCleaned.csv', sep=',', index=False)\n",
    "data.head()"
   ]
  }
 ],
 "metadata": {
  "kernelspec": {
   "display_name": "Python 3",
   "language": "python",
   "name": "python3"
  },
  "language_info": {
   "codemirror_mode": {
    "name": "ipython",
    "version": 3
   },
   "file_extension": ".py",
   "mimetype": "text/x-python",
   "name": "python",
   "nbconvert_exporter": "python",
   "pygments_lexer": "ipython3",
   "version": "3.6.5"
  }
 },
 "nbformat": 4,
 "nbformat_minor": 2
}
