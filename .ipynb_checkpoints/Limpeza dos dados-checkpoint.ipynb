{
 "cells": [
  {
   "cell_type": "markdown",
   "metadata": {},
   "source": [
    "# Importando as bibliotecas e o dataset"
   ]
  },
  {
   "cell_type": "code",
   "execution_count": 1,
   "metadata": {},
   "outputs": [
    {
     "data": {
      "text/html": [
       "<div>\n",
       "<style scoped>\n",
       "    .dataframe tbody tr th:only-of-type {\n",
       "        vertical-align: middle;\n",
       "    }\n",
       "\n",
       "    .dataframe tbody tr th {\n",
       "        vertical-align: top;\n",
       "    }\n",
       "\n",
       "    .dataframe thead th {\n",
       "        text-align: right;\n",
       "    }\n",
       "</style>\n",
       "<table border=\"1\" class=\"dataframe\">\n",
       "  <thead>\n",
       "    <tr style=\"text-align: right;\">\n",
       "      <th></th>\n",
       "      <th>Nome</th>\n",
       "      <th>Plataforma</th>\n",
       "      <th>Ano de lancamento</th>\n",
       "      <th>Genero</th>\n",
       "      <th>Publicadora</th>\n",
       "      <th>Vendas NA</th>\n",
       "      <th>Vendas EU</th>\n",
       "      <th>Vendas JP</th>\n",
       "      <th>Outras vendas</th>\n",
       "      <th>Vendas globais</th>\n",
       "      <th>Pontuacao da critica</th>\n",
       "      <th>Contagem de criticas</th>\n",
       "      <th>Pontuacao dos usuarios</th>\n",
       "      <th>Contagem de usuarios</th>\n",
       "      <th>Desenvolvedora</th>\n",
       "      <th>Classificacao</th>\n",
       "    </tr>\n",
       "  </thead>\n",
       "  <tbody>\n",
       "    <tr>\n",
       "      <th>0</th>\n",
       "      <td>Wii Sports</td>\n",
       "      <td>Wii</td>\n",
       "      <td>2006.0</td>\n",
       "      <td>Sports</td>\n",
       "      <td>Nintendo</td>\n",
       "      <td>41.36</td>\n",
       "      <td>28.96</td>\n",
       "      <td>3.77</td>\n",
       "      <td>8.45</td>\n",
       "      <td>82.53</td>\n",
       "      <td>76.0</td>\n",
       "      <td>51.0</td>\n",
       "      <td>8</td>\n",
       "      <td>322.0</td>\n",
       "      <td>Nintendo</td>\n",
       "      <td>E</td>\n",
       "    </tr>\n",
       "    <tr>\n",
       "      <th>1</th>\n",
       "      <td>Super Mario Bros.</td>\n",
       "      <td>NES</td>\n",
       "      <td>1985.0</td>\n",
       "      <td>Platform</td>\n",
       "      <td>Nintendo</td>\n",
       "      <td>29.08</td>\n",
       "      <td>3.58</td>\n",
       "      <td>6.81</td>\n",
       "      <td>0.77</td>\n",
       "      <td>40.24</td>\n",
       "      <td>NaN</td>\n",
       "      <td>NaN</td>\n",
       "      <td>NaN</td>\n",
       "      <td>NaN</td>\n",
       "      <td>NaN</td>\n",
       "      <td>NaN</td>\n",
       "    </tr>\n",
       "    <tr>\n",
       "      <th>2</th>\n",
       "      <td>Mario Kart Wii</td>\n",
       "      <td>Wii</td>\n",
       "      <td>2008.0</td>\n",
       "      <td>Racing</td>\n",
       "      <td>Nintendo</td>\n",
       "      <td>15.68</td>\n",
       "      <td>12.76</td>\n",
       "      <td>3.79</td>\n",
       "      <td>3.29</td>\n",
       "      <td>35.52</td>\n",
       "      <td>82.0</td>\n",
       "      <td>73.0</td>\n",
       "      <td>8.3</td>\n",
       "      <td>709.0</td>\n",
       "      <td>Nintendo</td>\n",
       "      <td>E</td>\n",
       "    </tr>\n",
       "    <tr>\n",
       "      <th>3</th>\n",
       "      <td>Wii Sports Resort</td>\n",
       "      <td>Wii</td>\n",
       "      <td>2009.0</td>\n",
       "      <td>Sports</td>\n",
       "      <td>Nintendo</td>\n",
       "      <td>15.61</td>\n",
       "      <td>10.93</td>\n",
       "      <td>3.28</td>\n",
       "      <td>2.95</td>\n",
       "      <td>32.77</td>\n",
       "      <td>80.0</td>\n",
       "      <td>73.0</td>\n",
       "      <td>8</td>\n",
       "      <td>192.0</td>\n",
       "      <td>Nintendo</td>\n",
       "      <td>E</td>\n",
       "    </tr>\n",
       "    <tr>\n",
       "      <th>4</th>\n",
       "      <td>Pokemon Red/Pokemon Blue</td>\n",
       "      <td>GB</td>\n",
       "      <td>1996.0</td>\n",
       "      <td>Role-Playing</td>\n",
       "      <td>Nintendo</td>\n",
       "      <td>11.27</td>\n",
       "      <td>8.89</td>\n",
       "      <td>10.22</td>\n",
       "      <td>1.00</td>\n",
       "      <td>31.37</td>\n",
       "      <td>NaN</td>\n",
       "      <td>NaN</td>\n",
       "      <td>NaN</td>\n",
       "      <td>NaN</td>\n",
       "      <td>NaN</td>\n",
       "      <td>NaN</td>\n",
       "    </tr>\n",
       "  </tbody>\n",
       "</table>\n",
       "</div>"
      ],
      "text/plain": [
       "                       Nome Plataforma  Ano de lancamento        Genero  \\\n",
       "0                Wii Sports        Wii             2006.0        Sports   \n",
       "1         Super Mario Bros.        NES             1985.0      Platform   \n",
       "2            Mario Kart Wii        Wii             2008.0        Racing   \n",
       "3         Wii Sports Resort        Wii             2009.0        Sports   \n",
       "4  Pokemon Red/Pokemon Blue         GB             1996.0  Role-Playing   \n",
       "\n",
       "  Publicadora  Vendas NA  Vendas EU  Vendas JP  Outras vendas  Vendas globais  \\\n",
       "0    Nintendo      41.36      28.96       3.77           8.45           82.53   \n",
       "1    Nintendo      29.08       3.58       6.81           0.77           40.24   \n",
       "2    Nintendo      15.68      12.76       3.79           3.29           35.52   \n",
       "3    Nintendo      15.61      10.93       3.28           2.95           32.77   \n",
       "4    Nintendo      11.27       8.89      10.22           1.00           31.37   \n",
       "\n",
       "   Pontuacao da critica  Contagem de criticas Pontuacao dos usuarios  \\\n",
       "0                  76.0                  51.0                      8   \n",
       "1                   NaN                   NaN                    NaN   \n",
       "2                  82.0                  73.0                    8.3   \n",
       "3                  80.0                  73.0                      8   \n",
       "4                   NaN                   NaN                    NaN   \n",
       "\n",
       "   Contagem de usuarios Desenvolvedora Classificacao  \n",
       "0                 322.0       Nintendo             E  \n",
       "1                   NaN            NaN           NaN  \n",
       "2                 709.0       Nintendo             E  \n",
       "3                 192.0       Nintendo             E  \n",
       "4                   NaN            NaN           NaN  "
      ]
     },
     "execution_count": 1,
     "metadata": {},
     "output_type": "execute_result"
    }
   ],
   "source": [
    "import pandas as pd\n",
    "import matplotlib.pyplot as plt\n",
    "%matplotlib inline\n",
    "import numpy as np\n",
    "\n",
    "data = pd.read_csv('datasets/video-game-sales-with-ratings/Video_Games_Sales_as_at_22_Dec_2016.csv')\n",
    "data.columns = ['Nome', 'Plataforma', 'Ano de lancamento', 'Genero', 'Publicadora', 'Vendas NA', 'Vendas EU', 'Vendas JP', 'Outras vendas', 'Vendas globais', 'Pontuacao da critica', 'Contagem de criticas', 'Pontuacao dos usuarios', 'Contagem de usuarios', 'Desenvolvedora', 'Classificacao']\n",
    "data.head()"
   ]
  },
  {
   "cell_type": "markdown",
   "metadata": {},
   "source": [
    "## Informações do dataset"
   ]
  },
  {
   "cell_type": "markdown",
   "metadata": {},
   "source": [
    "### Informações gerais"
   ]
  },
  {
   "cell_type": "code",
   "execution_count": 2,
   "metadata": {
    "scrolled": true
   },
   "outputs": [
    {
     "name": "stdout",
     "output_type": "stream",
     "text": [
      "<class 'pandas.core.frame.DataFrame'>\n",
      "RangeIndex: 16719 entries, 0 to 16718\n",
      "Data columns (total 16 columns):\n",
      "Nome                      16717 non-null object\n",
      "Plataforma                16719 non-null object\n",
      "Ano de lancamento         16450 non-null float64\n",
      "Genero                    16717 non-null object\n",
      "Publicadora               16665 non-null object\n",
      "Vendas NA                 16719 non-null float64\n",
      "Vendas EU                 16719 non-null float64\n",
      "Vendas JP                 16719 non-null float64\n",
      "Outras vendas             16719 non-null float64\n",
      "Vendas globais            16719 non-null float64\n",
      "Pontuacao da critica      8137 non-null float64\n",
      "Contagem de criticas      8137 non-null float64\n",
      "Pontuacao dos usuarios    10015 non-null object\n",
      "Contagem de usuarios      7590 non-null float64\n",
      "Desenvolvedora            10096 non-null object\n",
      "Classificacao             9950 non-null object\n",
      "dtypes: float64(9), object(7)\n",
      "memory usage: 2.0+ MB\n"
     ]
    }
   ],
   "source": [
    "data.info()"
   ]
  },
  {
   "cell_type": "markdown",
   "metadata": {},
   "source": [
    "### Estatísticas descritivas"
   ]
  },
  {
   "cell_type": "code",
   "execution_count": 3,
   "metadata": {},
   "outputs": [
    {
     "data": {
      "text/html": [
       "<div>\n",
       "<style scoped>\n",
       "    .dataframe tbody tr th:only-of-type {\n",
       "        vertical-align: middle;\n",
       "    }\n",
       "\n",
       "    .dataframe tbody tr th {\n",
       "        vertical-align: top;\n",
       "    }\n",
       "\n",
       "    .dataframe thead th {\n",
       "        text-align: right;\n",
       "    }\n",
       "</style>\n",
       "<table border=\"1\" class=\"dataframe\">\n",
       "  <thead>\n",
       "    <tr style=\"text-align: right;\">\n",
       "      <th></th>\n",
       "      <th>Ano de lancamento</th>\n",
       "      <th>Vendas NA</th>\n",
       "      <th>Vendas EU</th>\n",
       "      <th>Vendas JP</th>\n",
       "      <th>Outras vendas</th>\n",
       "      <th>Vendas globais</th>\n",
       "      <th>Pontuacao da critica</th>\n",
       "      <th>Contagem de criticas</th>\n",
       "      <th>Contagem de usuarios</th>\n",
       "    </tr>\n",
       "  </thead>\n",
       "  <tbody>\n",
       "    <tr>\n",
       "      <th>count</th>\n",
       "      <td>16450.000000</td>\n",
       "      <td>16719.000000</td>\n",
       "      <td>16719.000000</td>\n",
       "      <td>16719.000000</td>\n",
       "      <td>16719.000000</td>\n",
       "      <td>16719.000000</td>\n",
       "      <td>8137.000000</td>\n",
       "      <td>8137.000000</td>\n",
       "      <td>7590.000000</td>\n",
       "    </tr>\n",
       "    <tr>\n",
       "      <th>mean</th>\n",
       "      <td>2006.487356</td>\n",
       "      <td>0.263330</td>\n",
       "      <td>0.145025</td>\n",
       "      <td>0.077602</td>\n",
       "      <td>0.047332</td>\n",
       "      <td>0.533543</td>\n",
       "      <td>68.967679</td>\n",
       "      <td>26.360821</td>\n",
       "      <td>162.229908</td>\n",
       "    </tr>\n",
       "    <tr>\n",
       "      <th>std</th>\n",
       "      <td>5.878995</td>\n",
       "      <td>0.813514</td>\n",
       "      <td>0.503283</td>\n",
       "      <td>0.308818</td>\n",
       "      <td>0.186710</td>\n",
       "      <td>1.547935</td>\n",
       "      <td>13.938165</td>\n",
       "      <td>18.980495</td>\n",
       "      <td>561.282326</td>\n",
       "    </tr>\n",
       "    <tr>\n",
       "      <th>min</th>\n",
       "      <td>1980.000000</td>\n",
       "      <td>0.000000</td>\n",
       "      <td>0.000000</td>\n",
       "      <td>0.000000</td>\n",
       "      <td>0.000000</td>\n",
       "      <td>0.010000</td>\n",
       "      <td>13.000000</td>\n",
       "      <td>3.000000</td>\n",
       "      <td>4.000000</td>\n",
       "    </tr>\n",
       "    <tr>\n",
       "      <th>25%</th>\n",
       "      <td>2003.000000</td>\n",
       "      <td>0.000000</td>\n",
       "      <td>0.000000</td>\n",
       "      <td>0.000000</td>\n",
       "      <td>0.000000</td>\n",
       "      <td>0.060000</td>\n",
       "      <td>60.000000</td>\n",
       "      <td>12.000000</td>\n",
       "      <td>10.000000</td>\n",
       "    </tr>\n",
       "    <tr>\n",
       "      <th>50%</th>\n",
       "      <td>2007.000000</td>\n",
       "      <td>0.080000</td>\n",
       "      <td>0.020000</td>\n",
       "      <td>0.000000</td>\n",
       "      <td>0.010000</td>\n",
       "      <td>0.170000</td>\n",
       "      <td>71.000000</td>\n",
       "      <td>21.000000</td>\n",
       "      <td>24.000000</td>\n",
       "    </tr>\n",
       "    <tr>\n",
       "      <th>75%</th>\n",
       "      <td>2010.000000</td>\n",
       "      <td>0.240000</td>\n",
       "      <td>0.110000</td>\n",
       "      <td>0.040000</td>\n",
       "      <td>0.030000</td>\n",
       "      <td>0.470000</td>\n",
       "      <td>79.000000</td>\n",
       "      <td>36.000000</td>\n",
       "      <td>81.000000</td>\n",
       "    </tr>\n",
       "    <tr>\n",
       "      <th>max</th>\n",
       "      <td>2020.000000</td>\n",
       "      <td>41.360000</td>\n",
       "      <td>28.960000</td>\n",
       "      <td>10.220000</td>\n",
       "      <td>10.570000</td>\n",
       "      <td>82.530000</td>\n",
       "      <td>98.000000</td>\n",
       "      <td>113.000000</td>\n",
       "      <td>10665.000000</td>\n",
       "    </tr>\n",
       "  </tbody>\n",
       "</table>\n",
       "</div>"
      ],
      "text/plain": [
       "       Ano de lancamento     Vendas NA     Vendas EU     Vendas JP  \\\n",
       "count       16450.000000  16719.000000  16719.000000  16719.000000   \n",
       "mean         2006.487356      0.263330      0.145025      0.077602   \n",
       "std             5.878995      0.813514      0.503283      0.308818   \n",
       "min          1980.000000      0.000000      0.000000      0.000000   \n",
       "25%          2003.000000      0.000000      0.000000      0.000000   \n",
       "50%          2007.000000      0.080000      0.020000      0.000000   \n",
       "75%          2010.000000      0.240000      0.110000      0.040000   \n",
       "max          2020.000000     41.360000     28.960000     10.220000   \n",
       "\n",
       "       Outras vendas  Vendas globais  Pontuacao da critica  \\\n",
       "count   16719.000000    16719.000000           8137.000000   \n",
       "mean        0.047332        0.533543             68.967679   \n",
       "std         0.186710        1.547935             13.938165   \n",
       "min         0.000000        0.010000             13.000000   \n",
       "25%         0.000000        0.060000             60.000000   \n",
       "50%         0.010000        0.170000             71.000000   \n",
       "75%         0.030000        0.470000             79.000000   \n",
       "max        10.570000       82.530000             98.000000   \n",
       "\n",
       "       Contagem de criticas  Contagem de usuarios  \n",
       "count           8137.000000           7590.000000  \n",
       "mean              26.360821            162.229908  \n",
       "std               18.980495            561.282326  \n",
       "min                3.000000              4.000000  \n",
       "25%               12.000000             10.000000  \n",
       "50%               21.000000             24.000000  \n",
       "75%               36.000000             81.000000  \n",
       "max              113.000000          10665.000000  "
      ]
     },
     "execution_count": 3,
     "metadata": {},
     "output_type": "execute_result"
    }
   ],
   "source": [
    "data.describe()"
   ]
  },
  {
   "cell_type": "markdown",
   "metadata": {},
   "source": [
    "### Anotações imediatas"
   ]
  },
  {
   "cell_type": "markdown",
   "metadata": {},
   "source": [
    "A princípio penso em focar nas colunas Genre, Platform, Global_Sales, Critic_Score, User_Score e Rating."
   ]
  },
  {
   "cell_type": "markdown",
   "metadata": {},
   "source": [
    "## Limpando os dados"
   ]
  },
  {
   "cell_type": "markdown",
   "metadata": {},
   "source": [
    "### Alterando valores da coluna Gênero"
   ]
  },
  {
   "cell_type": "code",
   "execution_count": 4,
   "metadata": {},
   "outputs": [],
   "source": [
    "generos = data['Genero'].copy()\n",
    "generos[generos== 'Sports'] = 0\n",
    "generos[generos== 'Platform'] = 1\n",
    "generos[generos== 'Racing'] = 2\n",
    "generos[generos== 'Role-Playing'] = 3\n",
    "generos[generos== 'Puzzle'] = 4\n",
    "generos[generos== 'Misc'] = 5\n",
    "generos[generos== 'Shooter'] = 6\n",
    "generos[generos== 'Simulation'] = 7\n",
    "generos[generos== 'Action'] = 8\n",
    "generos[generos== 'Fighting'] = 9\n",
    "generos[generos== 'Adventure'] = 10\n",
    "generos[generos== 'Strategy'] = 11\n",
    "data['Genero'] = generos"
   ]
  },
  {
   "cell_type": "markdown",
   "metadata": {},
   "source": [
    "### Alterando valores da coluna Platform"
   ]
  },
  {
   "cell_type": "code",
   "execution_count": 5,
   "metadata": {},
   "outputs": [],
   "source": [
    "plataforma = data['Plataforma'].copy()\n",
    "plataforma[plataforma == 'Wii'] = 0\n",
    "plataforma[plataforma == 'NES'] = 1\n",
    "plataforma[plataforma == 'GB'] = 2\n",
    "plataforma[plataforma == 'DS'] = 3\n",
    "plataforma[plataforma == 'X360'] = 4\n",
    "plataforma[plataforma == 'PS3'] = 5\n",
    "plataforma[plataforma == 'PS2'] = 6\n",
    "plataforma[plataforma == 'SNES'] = 7\n",
    "plataforma[plataforma == 'GBA'] = 8\n",
    "plataforma[plataforma == 'PS4'] = 9\n",
    "plataforma[plataforma == '3DS'] = 10\n",
    "plataforma[plataforma == 'N64'] = 11\n",
    "plataforma[plataforma == 'PS'] = 12\n",
    "plataforma[plataforma == 'XB'] = 13\n",
    "plataforma[plataforma == 'PC'] = 14\n",
    "plataforma[plataforma == '2600'] = 15\n",
    "plataforma[plataforma == 'PSP'] = 16\n",
    "plataforma[plataforma == 'XOne'] = 17\n",
    "plataforma[plataforma == 'WiiU'] = 18\n",
    "plataforma[plataforma == 'GC'] = 19\n",
    "plataforma[plataforma == 'GEN'] = 20\n",
    "plataforma[plataforma == 'DC'] = 21\n",
    "plataforma[plataforma == 'PSV'] = 22\n",
    "plataforma[plataforma == 'SAT'] = 23\n",
    "plataforma[plataforma == 'SCD'] = 24\n",
    "plataforma[plataforma == 'WS'] = 25\n",
    "plataforma[plataforma == 'NG'] = 26\n",
    "plataforma[plataforma == 'TG16'] = 27\n",
    "plataforma[plataforma == '3DO'] = 28\n",
    "plataforma[plataforma == 'GG'] = 29\n",
    "plataforma[plataforma == 'PCFX'] = 30\n",
    "data['Plataforma'] = plataforma"
   ]
  },
  {
   "cell_type": "markdown",
   "metadata": {},
   "source": [
    "### Alterando valores da coluna Classificação"
   ]
  },
  {
   "cell_type": "code",
   "execution_count": 6,
   "metadata": {},
   "outputs": [],
   "source": [
    "#1      E\n",
    "#2      M\n",
    "#3      T\n",
    "#4      E10+\n",
    "#5      K-A\n",
    "#6      AO\n",
    "#7      EC\n",
    "#8      RP\n",
    "\n",
    "classificacao = data['Classificacao'].copy()\n",
    "classificacao[classificacao == 'E'] = 0\n",
    "classificacao[classificacao == 'M'] = 1\n",
    "classificacao[classificacao == 'T'] = 2\n",
    "classificacao[classificacao == 'E10+'] = 3\n",
    "classificacao[classificacao == 'K-A'] = 4\n",
    "classificacao[classificacao == 'AO'] = 5\n",
    "classificacao[classificacao == 'EC'] = 6\n",
    "classificacao[classificacao == 'RP'] = 7\n",
    "data['Classificacao'] = classificacao"
   ]
  },
  {
   "cell_type": "markdown",
   "metadata": {},
   "source": [
    "### Alterando valores da coluna Publicadora"
   ]
  },
  {
   "cell_type": "code",
   "execution_count": 7,
   "metadata": {},
   "outputs": [
    {
     "name": "stderr",
     "output_type": "stream",
     "text": [
      "/home/jackson/anaconda3/lib/python3.6/site-packages/ipykernel_launcher.py:4: SettingWithCopyWarning: \n",
      "A value is trying to be set on a copy of a slice from a DataFrame.\n",
      "Try using .loc[row_indexer,col_indexer] = value instead\n",
      "\n",
      "See the caveats in the documentation: http://pandas.pydata.org/pandas-docs/stable/indexing.html#indexing-view-versus-copy\n",
      "  after removing the cwd from sys.path.\n"
     ]
    }
   ],
   "source": [
    "x = data['Publicadora'].unique()\n",
    "for item in range(len(x)):\n",
    "    b = data[data['Publicadora']==x[item]]\n",
    "    b['Publicadora'] = item\n",
    "    data[data['Publicadora']==x[item]] = b"
   ]
  },
  {
   "cell_type": "markdown",
   "metadata": {},
   "source": [
    "### Alterando valores da coluna Desenvolvedora"
   ]
  },
  {
   "cell_type": "code",
   "execution_count": 8,
   "metadata": {},
   "outputs": [
    {
     "name": "stderr",
     "output_type": "stream",
     "text": [
      "/home/jackson/anaconda3/lib/python3.6/site-packages/ipykernel_launcher.py:4: SettingWithCopyWarning: \n",
      "A value is trying to be set on a copy of a slice from a DataFrame.\n",
      "Try using .loc[row_indexer,col_indexer] = value instead\n",
      "\n",
      "See the caveats in the documentation: http://pandas.pydata.org/pandas-docs/stable/indexing.html#indexing-view-versus-copy\n",
      "  after removing the cwd from sys.path.\n"
     ]
    }
   ],
   "source": [
    "x = data['Desenvolvedora'].unique()\n",
    "for item in range(len(x)):\n",
    "    b = data[data['Desenvolvedora']==x[item]]\n",
    "    b['Desenvolvedora'] = item\n",
    "    data[data['Desenvolvedora']==x[item]] = b"
   ]
  },
  {
   "cell_type": "markdown",
   "metadata": {},
   "source": [
    "### Retirando valores vazios restantes"
   ]
  },
  {
   "cell_type": "code",
   "execution_count": 9,
   "metadata": {},
   "outputs": [
    {
     "name": "stdout",
     "output_type": "stream",
     "text": [
      "<class 'pandas.core.frame.DataFrame'>\n",
      "Int64Index: 6825 entries, 0 to 16706\n",
      "Data columns (total 16 columns):\n",
      "Nome                      6825 non-null object\n",
      "Plataforma                6825 non-null object\n",
      "Ano de lancamento         6825 non-null float64\n",
      "Genero                    6825 non-null object\n",
      "Publicadora               6825 non-null object\n",
      "Vendas NA                 6825 non-null float64\n",
      "Vendas EU                 6825 non-null float64\n",
      "Vendas JP                 6825 non-null float64\n",
      "Outras vendas             6825 non-null float64\n",
      "Vendas globais            6825 non-null float64\n",
      "Pontuacao da critica      6825 non-null float64\n",
      "Contagem de criticas      6825 non-null float64\n",
      "Pontuacao dos usuarios    6825 non-null object\n",
      "Contagem de usuarios      6825 non-null float64\n",
      "Desenvolvedora            6825 non-null object\n",
      "Classificacao             6825 non-null object\n",
      "dtypes: float64(9), object(7)\n",
      "memory usage: 906.4+ KB\n"
     ]
    }
   ],
   "source": [
    "data = data[data['Pontuacao dos usuarios'] != 'tbd']\n",
    "data = data.dropna()\n",
    "data.info()"
   ]
  },
  {
   "cell_type": "markdown",
   "metadata": {},
   "source": [
    "### Criando uma coluna com as médias de pontuação"
   ]
  },
  {
   "cell_type": "code",
   "execution_count": 10,
   "metadata": {},
   "outputs": [
    {
     "ename": "TypeError",
     "evalue": "(\"unsupported operand type(s) for +: 'float' and 'str'\", 'occurred at index 0')",
     "output_type": "error",
     "traceback": [
      "\u001b[0;31m---------------------------------------------------------------------------\u001b[0m",
      "\u001b[0;31mTypeError\u001b[0m                                 Traceback (most recent call last)",
      "\u001b[0;32m<ipython-input-10-5aff6daf33f9>\u001b[0m in \u001b[0;36m<module>\u001b[0;34m()\u001b[0m\n\u001b[1;32m     12\u001b[0m \u001b[0;32mdef\u001b[0m \u001b[0mmedia\u001b[0m\u001b[0;34m(\u001b[0m\u001b[0mx\u001b[0m\u001b[0;34m,\u001b[0m \u001b[0my\u001b[0m\u001b[0;34m)\u001b[0m\u001b[0;34m:\u001b[0m\u001b[0;34m\u001b[0m\u001b[0m\n\u001b[1;32m     13\u001b[0m     \u001b[0;32mreturn\u001b[0m \u001b[0;34m(\u001b[0m\u001b[0mx\u001b[0m\u001b[0;34m+\u001b[0m\u001b[0my\u001b[0m\u001b[0;34m)\u001b[0m\u001b[0;34m/\u001b[0m\u001b[0;36m2\u001b[0m\u001b[0;34m\u001b[0m\u001b[0m\n\u001b[0;32m---> 14\u001b[0;31m \u001b[0mdata\u001b[0m\u001b[0;34m[\u001b[0m\u001b[0;34m'Media de pontuacao'\u001b[0m\u001b[0;34m]\u001b[0m \u001b[0;34m=\u001b[0m \u001b[0mdata\u001b[0m\u001b[0;34m.\u001b[0m\u001b[0mapply\u001b[0m\u001b[0;34m(\u001b[0m\u001b[0;32mlambda\u001b[0m \u001b[0mrow\u001b[0m\u001b[0;34m:\u001b[0m \u001b[0mmedia\u001b[0m\u001b[0;34m(\u001b[0m\u001b[0mrow\u001b[0m\u001b[0;34m[\u001b[0m\u001b[0;34m'Pontuacao da critica'\u001b[0m\u001b[0;34m]\u001b[0m\u001b[0;34m,\u001b[0m \u001b[0mrow\u001b[0m\u001b[0;34m[\u001b[0m\u001b[0;34m'Pontuacao dos usuarios'\u001b[0m\u001b[0;34m]\u001b[0m\u001b[0;34m)\u001b[0m\u001b[0;34m,\u001b[0m \u001b[0maxis\u001b[0m\u001b[0;34m=\u001b[0m\u001b[0;36m1\u001b[0m\u001b[0;34m)\u001b[0m\u001b[0;34m\u001b[0m\u001b[0m\n\u001b[0m\u001b[1;32m     15\u001b[0m \u001b[0mdata\u001b[0m\u001b[0;34m.\u001b[0m\u001b[0mhead\u001b[0m\u001b[0;34m(\u001b[0m\u001b[0;34m)\u001b[0m\u001b[0;34m\u001b[0m\u001b[0m\n",
      "\u001b[0;32m~/anaconda3/lib/python3.6/site-packages/pandas/core/frame.py\u001b[0m in \u001b[0;36mapply\u001b[0;34m(self, func, axis, broadcast, raw, reduce, result_type, args, **kwds)\u001b[0m\n\u001b[1;32m   6002\u001b[0m                          \u001b[0margs\u001b[0m\u001b[0;34m=\u001b[0m\u001b[0margs\u001b[0m\u001b[0;34m,\u001b[0m\u001b[0;34m\u001b[0m\u001b[0m\n\u001b[1;32m   6003\u001b[0m                          kwds=kwds)\n\u001b[0;32m-> 6004\u001b[0;31m         \u001b[0;32mreturn\u001b[0m \u001b[0mop\u001b[0m\u001b[0;34m.\u001b[0m\u001b[0mget_result\u001b[0m\u001b[0;34m(\u001b[0m\u001b[0;34m)\u001b[0m\u001b[0;34m\u001b[0m\u001b[0m\n\u001b[0m\u001b[1;32m   6005\u001b[0m \u001b[0;34m\u001b[0m\u001b[0m\n\u001b[1;32m   6006\u001b[0m     \u001b[0;32mdef\u001b[0m \u001b[0mapplymap\u001b[0m\u001b[0;34m(\u001b[0m\u001b[0mself\u001b[0m\u001b[0;34m,\u001b[0m \u001b[0mfunc\u001b[0m\u001b[0;34m)\u001b[0m\u001b[0;34m:\u001b[0m\u001b[0;34m\u001b[0m\u001b[0m\n",
      "\u001b[0;32m~/anaconda3/lib/python3.6/site-packages/pandas/core/apply.py\u001b[0m in \u001b[0;36mget_result\u001b[0;34m(self)\u001b[0m\n\u001b[1;32m    140\u001b[0m             \u001b[0;32mreturn\u001b[0m \u001b[0mself\u001b[0m\u001b[0;34m.\u001b[0m\u001b[0mapply_raw\u001b[0m\u001b[0;34m(\u001b[0m\u001b[0;34m)\u001b[0m\u001b[0;34m\u001b[0m\u001b[0m\n\u001b[1;32m    141\u001b[0m \u001b[0;34m\u001b[0m\u001b[0m\n\u001b[0;32m--> 142\u001b[0;31m         \u001b[0;32mreturn\u001b[0m \u001b[0mself\u001b[0m\u001b[0;34m.\u001b[0m\u001b[0mapply_standard\u001b[0m\u001b[0;34m(\u001b[0m\u001b[0;34m)\u001b[0m\u001b[0;34m\u001b[0m\u001b[0m\n\u001b[0m\u001b[1;32m    143\u001b[0m \u001b[0;34m\u001b[0m\u001b[0m\n\u001b[1;32m    144\u001b[0m     \u001b[0;32mdef\u001b[0m \u001b[0mapply_empty_result\u001b[0m\u001b[0;34m(\u001b[0m\u001b[0mself\u001b[0m\u001b[0;34m)\u001b[0m\u001b[0;34m:\u001b[0m\u001b[0;34m\u001b[0m\u001b[0m\n",
      "\u001b[0;32m~/anaconda3/lib/python3.6/site-packages/pandas/core/apply.py\u001b[0m in \u001b[0;36mapply_standard\u001b[0;34m(self)\u001b[0m\n\u001b[1;32m    246\u001b[0m \u001b[0;34m\u001b[0m\u001b[0m\n\u001b[1;32m    247\u001b[0m         \u001b[0;31m# compute the result using the series generator\u001b[0m\u001b[0;34m\u001b[0m\u001b[0;34m\u001b[0m\u001b[0m\n\u001b[0;32m--> 248\u001b[0;31m         \u001b[0mself\u001b[0m\u001b[0;34m.\u001b[0m\u001b[0mapply_series_generator\u001b[0m\u001b[0;34m(\u001b[0m\u001b[0;34m)\u001b[0m\u001b[0;34m\u001b[0m\u001b[0m\n\u001b[0m\u001b[1;32m    249\u001b[0m \u001b[0;34m\u001b[0m\u001b[0m\n\u001b[1;32m    250\u001b[0m         \u001b[0;31m# wrap results\u001b[0m\u001b[0;34m\u001b[0m\u001b[0;34m\u001b[0m\u001b[0m\n",
      "\u001b[0;32m~/anaconda3/lib/python3.6/site-packages/pandas/core/apply.py\u001b[0m in \u001b[0;36mapply_series_generator\u001b[0;34m(self)\u001b[0m\n\u001b[1;32m    275\u001b[0m             \u001b[0;32mtry\u001b[0m\u001b[0;34m:\u001b[0m\u001b[0;34m\u001b[0m\u001b[0m\n\u001b[1;32m    276\u001b[0m                 \u001b[0;32mfor\u001b[0m \u001b[0mi\u001b[0m\u001b[0;34m,\u001b[0m \u001b[0mv\u001b[0m \u001b[0;32min\u001b[0m \u001b[0menumerate\u001b[0m\u001b[0;34m(\u001b[0m\u001b[0mseries_gen\u001b[0m\u001b[0;34m)\u001b[0m\u001b[0;34m:\u001b[0m\u001b[0;34m\u001b[0m\u001b[0m\n\u001b[0;32m--> 277\u001b[0;31m                     \u001b[0mresults\u001b[0m\u001b[0;34m[\u001b[0m\u001b[0mi\u001b[0m\u001b[0;34m]\u001b[0m \u001b[0;34m=\u001b[0m \u001b[0mself\u001b[0m\u001b[0;34m.\u001b[0m\u001b[0mf\u001b[0m\u001b[0;34m(\u001b[0m\u001b[0mv\u001b[0m\u001b[0;34m)\u001b[0m\u001b[0;34m\u001b[0m\u001b[0m\n\u001b[0m\u001b[1;32m    278\u001b[0m                     \u001b[0mkeys\u001b[0m\u001b[0;34m.\u001b[0m\u001b[0mappend\u001b[0m\u001b[0;34m(\u001b[0m\u001b[0mv\u001b[0m\u001b[0;34m.\u001b[0m\u001b[0mname\u001b[0m\u001b[0;34m)\u001b[0m\u001b[0;34m\u001b[0m\u001b[0m\n\u001b[1;32m    279\u001b[0m             \u001b[0;32mexcept\u001b[0m \u001b[0mException\u001b[0m \u001b[0;32mas\u001b[0m \u001b[0me\u001b[0m\u001b[0;34m:\u001b[0m\u001b[0;34m\u001b[0m\u001b[0m\n",
      "\u001b[0;32m<ipython-input-10-5aff6daf33f9>\u001b[0m in \u001b[0;36m<lambda>\u001b[0;34m(row)\u001b[0m\n\u001b[1;32m     12\u001b[0m \u001b[0;32mdef\u001b[0m \u001b[0mmedia\u001b[0m\u001b[0;34m(\u001b[0m\u001b[0mx\u001b[0m\u001b[0;34m,\u001b[0m \u001b[0my\u001b[0m\u001b[0;34m)\u001b[0m\u001b[0;34m:\u001b[0m\u001b[0;34m\u001b[0m\u001b[0m\n\u001b[1;32m     13\u001b[0m     \u001b[0;32mreturn\u001b[0m \u001b[0;34m(\u001b[0m\u001b[0mx\u001b[0m\u001b[0;34m+\u001b[0m\u001b[0my\u001b[0m\u001b[0;34m)\u001b[0m\u001b[0;34m/\u001b[0m\u001b[0;36m2\u001b[0m\u001b[0;34m\u001b[0m\u001b[0m\n\u001b[0;32m---> 14\u001b[0;31m \u001b[0mdata\u001b[0m\u001b[0;34m[\u001b[0m\u001b[0;34m'Media de pontuacao'\u001b[0m\u001b[0;34m]\u001b[0m \u001b[0;34m=\u001b[0m \u001b[0mdata\u001b[0m\u001b[0;34m.\u001b[0m\u001b[0mapply\u001b[0m\u001b[0;34m(\u001b[0m\u001b[0;32mlambda\u001b[0m \u001b[0mrow\u001b[0m\u001b[0;34m:\u001b[0m \u001b[0mmedia\u001b[0m\u001b[0;34m(\u001b[0m\u001b[0mrow\u001b[0m\u001b[0;34m[\u001b[0m\u001b[0;34m'Pontuacao da critica'\u001b[0m\u001b[0;34m]\u001b[0m\u001b[0;34m,\u001b[0m \u001b[0mrow\u001b[0m\u001b[0;34m[\u001b[0m\u001b[0;34m'Pontuacao dos usuarios'\u001b[0m\u001b[0;34m]\u001b[0m\u001b[0;34m)\u001b[0m\u001b[0;34m,\u001b[0m \u001b[0maxis\u001b[0m\u001b[0;34m=\u001b[0m\u001b[0;36m1\u001b[0m\u001b[0;34m)\u001b[0m\u001b[0;34m\u001b[0m\u001b[0m\n\u001b[0m\u001b[1;32m     15\u001b[0m \u001b[0mdata\u001b[0m\u001b[0;34m.\u001b[0m\u001b[0mhead\u001b[0m\u001b[0;34m(\u001b[0m\u001b[0;34m)\u001b[0m\u001b[0;34m\u001b[0m\u001b[0m\n",
      "\u001b[0;32m<ipython-input-10-5aff6daf33f9>\u001b[0m in \u001b[0;36mmedia\u001b[0;34m(x, y)\u001b[0m\n\u001b[1;32m     11\u001b[0m \u001b[0;34m\u001b[0m\u001b[0m\n\u001b[1;32m     12\u001b[0m \u001b[0;32mdef\u001b[0m \u001b[0mmedia\u001b[0m\u001b[0;34m(\u001b[0m\u001b[0mx\u001b[0m\u001b[0;34m,\u001b[0m \u001b[0my\u001b[0m\u001b[0;34m)\u001b[0m\u001b[0;34m:\u001b[0m\u001b[0;34m\u001b[0m\u001b[0m\n\u001b[0;32m---> 13\u001b[0;31m     \u001b[0;32mreturn\u001b[0m \u001b[0;34m(\u001b[0m\u001b[0mx\u001b[0m\u001b[0;34m+\u001b[0m\u001b[0my\u001b[0m\u001b[0;34m)\u001b[0m\u001b[0;34m/\u001b[0m\u001b[0;36m2\u001b[0m\u001b[0;34m\u001b[0m\u001b[0m\n\u001b[0m\u001b[1;32m     14\u001b[0m \u001b[0mdata\u001b[0m\u001b[0;34m[\u001b[0m\u001b[0;34m'Media de pontuacao'\u001b[0m\u001b[0;34m]\u001b[0m \u001b[0;34m=\u001b[0m \u001b[0mdata\u001b[0m\u001b[0;34m.\u001b[0m\u001b[0mapply\u001b[0m\u001b[0;34m(\u001b[0m\u001b[0;32mlambda\u001b[0m \u001b[0mrow\u001b[0m\u001b[0;34m:\u001b[0m \u001b[0mmedia\u001b[0m\u001b[0;34m(\u001b[0m\u001b[0mrow\u001b[0m\u001b[0;34m[\u001b[0m\u001b[0;34m'Pontuacao da critica'\u001b[0m\u001b[0;34m]\u001b[0m\u001b[0;34m,\u001b[0m \u001b[0mrow\u001b[0m\u001b[0;34m[\u001b[0m\u001b[0;34m'Pontuacao dos usuarios'\u001b[0m\u001b[0;34m]\u001b[0m\u001b[0;34m)\u001b[0m\u001b[0;34m,\u001b[0m \u001b[0maxis\u001b[0m\u001b[0;34m=\u001b[0m\u001b[0;36m1\u001b[0m\u001b[0;34m)\u001b[0m\u001b[0;34m\u001b[0m\u001b[0m\n\u001b[1;32m     15\u001b[0m \u001b[0mdata\u001b[0m\u001b[0;34m.\u001b[0m\u001b[0mhead\u001b[0m\u001b[0;34m(\u001b[0m\u001b[0;34m)\u001b[0m\u001b[0;34m\u001b[0m\u001b[0m\n",
      "\u001b[0;31mTypeError\u001b[0m: (\"unsupported operand type(s) for +: 'float' and 'str'\", 'occurred at index 0')"
     ]
    }
   ],
   "source": [
    "data['Media de pontuacao'] = 0.0\n",
    "\n",
    "data['Plataforma'].astype('int64')\n",
    "data['Genero'].astype('int64')\n",
    "data['Vendas globais'].astype('float64')\n",
    "data['Pontuacao da critica'].astype('float64')\n",
    "data['Pontuacao dos usuarios'].astype('float64')\n",
    "data['Classificacao'].astype('int64')\n",
    "data['Media de pontuacao'].astype('float64')\n",
    "data['Ano de lancamento'].astype('int64')\n",
    "\n",
    "def media(x, y):\n",
    "    return (x+y)/2\n",
    "data['Media de pontuacao'] = data.apply(lambda row: media(row['Pontuacao da critica'], row['Pontuacao dos usuarios']), axis=1)\n",
    "data.head()"
   ]
  },
  {
   "cell_type": "markdown",
   "metadata": {},
   "source": [
    "### Informações finais do Dataframe"
   ]
  },
  {
   "cell_type": "code",
   "execution_count": null,
   "metadata": {},
   "outputs": [],
   "source": [
    "data.describe()"
   ]
  },
  {
   "cell_type": "code",
   "execution_count": null,
   "metadata": {},
   "outputs": [],
   "source": [
    "data.info()"
   ]
  },
  {
   "cell_type": "markdown",
   "metadata": {},
   "source": [
    "### Salvando arquivo"
   ]
  },
  {
   "cell_type": "code",
   "execution_count": null,
   "metadata": {},
   "outputs": [],
   "source": [
    "# fileCleaned = pd.DataFrame(data={'Platform': data['Platform'], 'Genre': data['Genre'], 'Global_Sales': data['Global_Sales'],\n",
    "#      'Critic_Score': data['Critic_Score'], 'User_Score': data['User_Score'], 'Rating': data['Rating'], 'Score_Mean': data['Score_Mean']})\n",
    "# fileCleaned.dropna().to_csv(r'fileCleaned.csv', sep=',', index=False)\n",
    "data.to_csv(r'fileCleaned.csv', sep=',', index=False)"
   ]
  },
  {
   "cell_type": "markdown",
   "metadata": {},
   "source": [
    "### Abrindo o arquivo novamente"
   ]
  },
  {
   "cell_type": "code",
   "execution_count": null,
   "metadata": {},
   "outputs": [],
   "source": [
    "data = pd.read_csv('fileCleaned.csv')\n",
    "data"
   ]
  },
  {
   "cell_type": "code",
   "execution_count": null,
   "metadata": {},
   "outputs": [],
   "source": [
    "data.describe()"
   ]
  },
  {
   "cell_type": "code",
   "execution_count": null,
   "metadata": {},
   "outputs": [],
   "source": [
    "data.info()"
   ]
  },
  {
   "cell_type": "markdown",
   "metadata": {},
   "source": [
    "### Separando dados de treino e teste"
   ]
  },
  {
   "cell_type": "code",
   "execution_count": null,
   "metadata": {},
   "outputs": [],
   "source": [
    "from sklearn.model_selection import ShuffleSplit\n",
    "rs = ShuffleSplit(n_splits=1, test_size=0.33, random_state=42)\n",
    "array_train = []\n",
    "array_test = []\n",
    "columns = ['Nome', 'Plataforma', 'Ano de lancamento', 'Genero', 'Publicadora', 'Vendas NA', 'Vendas EU', 'Vendas JP',\n",
    "           'Outras vendas', 'Vendas globais', 'Pontuacao da critica', 'Contagem de criticas', 'Pontuacao dos usuarios', \n",
    "           'Contagem de usuarios', 'Desenvolvedora', 'Classificacao', 'Media de pontuacao']\n",
    "\n",
    "for train_index, test_index in rs.split(data):\n",
    "    #Treino\n",
    "    array_train.append(train_index)\n",
    "    #df_treino = pd.DataFrame(data={'Plataforma': [], 'Genero': [], 'Classificacao': []})\n",
    "    ar_treino = []\n",
    "    ar_teste = []\n",
    "    for x in train_index:\n",
    "        dict_treino = {'Plataforma': data.loc[x,'Plataforma'], 'Genero': data.loc[x,'Genero'], 'Classificacao': data.loc[x,'Classificacao']}\n",
    "        ar_treino.append(dict_treino)\n",
    "    df_treino = pd.DataFrame(data=ar_treino)\n",
    "    for x in test_index:\n",
    "        dict_teste = {'Nome': data.loc[x,'Nome'], 'Plataforma': data.loc[x,'Plataforma'],\n",
    "                       'Ano de lancamento': data.loc[x,'Ano de lancamento'], 'Genero': data.loc[x,'Genero'],\n",
    "                       'Publicadora': data.loc[x,'Publicadora'], 'Vendas NA': data.loc[x,'Vendas NA'],\n",
    "                       'Vendas EU': data.loc[x,'Vendas EU'], 'Vendas JP': data.loc[x,'Vendas JP'],\n",
    "                       'Outras vendas': data.loc[x,'Outras vendas'], 'Vendas globais': data.loc[x,'Vendas globais'],\n",
    "                       'Pontuacao da critica': data.loc[x,'Pontuacao da critica'], 'Contagem de criticas': data.loc[x,'Contagem de criticas'],\n",
    "                       'Pontuacao dos usuarios': data.loc[x,'Pontuacao dos usuarios'], 'Contagem de usuarios': data.loc[x,'Contagem de usuarios'],\n",
    "                       'Desenvolvedora': data.loc[x,'Desenvolvedora'], 'Classificacao': data.loc[x,'Classificacao'],\n",
    "                       'Media de pontuacao': data.loc[x,'Media de pontuacao']}\n",
    "        ar_teste.append(dict_teste)\n",
    "    df_teste = pd.DataFrame(data=ar_teste)\n",
    "    \n",
    "df_treino.to_csv(r'treino.csv', sep=',', index=False)\n",
    "df_teste.to_csv(r'teste.csv', sep=',', index=False)"
   ]
  },
  {
   "cell_type": "code",
   "execution_count": null,
   "metadata": {},
   "outputs": [],
   "source": [
    "treino = pd.read_csv('treino.csv')\n",
    "treino"
   ]
  },
  {
   "cell_type": "code",
   "execution_count": null,
   "metadata": {},
   "outputs": [],
   "source": [
    "treino.describe()"
   ]
  },
  {
   "cell_type": "code",
   "execution_count": null,
   "metadata": {},
   "outputs": [],
   "source": [
    "treino.info()"
   ]
  },
  {
   "cell_type": "code",
   "execution_count": null,
   "metadata": {},
   "outputs": [],
   "source": [
    "teste = pd.read_csv('teste.csv')\n",
    "teste"
   ]
  },
  {
   "cell_type": "code",
   "execution_count": null,
   "metadata": {},
   "outputs": [],
   "source": [
    "teste.describe()"
   ]
  },
  {
   "cell_type": "code",
   "execution_count": null,
   "metadata": {},
   "outputs": [],
   "source": [
    "teste.info()"
   ]
  }
 ],
 "metadata": {
  "kernelspec": {
   "display_name": "Python 3",
   "language": "python",
   "name": "python3"
  },
  "language_info": {
   "codemirror_mode": {
    "name": "ipython",
    "version": 3
   },
   "file_extension": ".py",
   "mimetype": "text/x-python",
   "name": "python",
   "nbconvert_exporter": "python",
   "pygments_lexer": "ipython3",
   "version": "3.6.5"
  }
 },
 "nbformat": 4,
 "nbformat_minor": 2
}
