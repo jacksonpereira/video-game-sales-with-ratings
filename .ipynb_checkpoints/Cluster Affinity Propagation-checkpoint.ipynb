{
 "cells": [
  {
   "cell_type": "markdown",
   "metadata": {},
   "source": [
    "# Cluster Affinity Propagation"
   ]
  },
  {
   "cell_type": "markdown",
   "metadata": {},
   "source": [
    "## Abrindo o arquivo de treino"
   ]
  },
  {
   "cell_type": "code",
   "execution_count": 1,
   "metadata": {
    "scrolled": true
   },
   "outputs": [
    {
     "name": "stdout",
     "output_type": "stream",
     "text": [
      "<class 'pandas.core.frame.DataFrame'>\n",
      "RangeIndex: 11200 entries, 0 to 11199\n",
      "Data columns (total 2 columns):\n",
      "Genero        11200 non-null int64\n",
      "Plataforma    11200 non-null int64\n",
      "dtypes: int64(2)\n",
      "memory usage: 175.1 KB\n"
     ]
    }
   ],
   "source": [
    "import pandas as pd\n",
    "import matplotlib.pyplot as plt\n",
    "%matplotlib inline\n",
    "import numpy as np\n",
    "import math\n",
    "from sklearn.cluster import AffinityPropagation\n",
    "\n",
    "treino = pd.read_csv('treino.csv')\n",
    "treino.info()"
   ]
  },
  {
   "cell_type": "code",
   "execution_count": 2,
   "metadata": {
    "scrolled": true
   },
   "outputs": [
    {
     "data": {
      "text/html": [
       "<div>\n",
       "<style scoped>\n",
       "    .dataframe tbody tr th:only-of-type {\n",
       "        vertical-align: middle;\n",
       "    }\n",
       "\n",
       "    .dataframe tbody tr th {\n",
       "        vertical-align: top;\n",
       "    }\n",
       "\n",
       "    .dataframe thead th {\n",
       "        text-align: right;\n",
       "    }\n",
       "</style>\n",
       "<table border=\"1\" class=\"dataframe\">\n",
       "  <thead>\n",
       "    <tr style=\"text-align: right;\">\n",
       "      <th></th>\n",
       "      <th>Genero</th>\n",
       "      <th>Plataforma</th>\n",
       "    </tr>\n",
       "  </thead>\n",
       "  <tbody>\n",
       "    <tr>\n",
       "      <th>0</th>\n",
       "      <td>11</td>\n",
       "      <td>14</td>\n",
       "    </tr>\n",
       "    <tr>\n",
       "      <th>1</th>\n",
       "      <td>10</td>\n",
       "      <td>6</td>\n",
       "    </tr>\n",
       "    <tr>\n",
       "      <th>2</th>\n",
       "      <td>3</td>\n",
       "      <td>16</td>\n",
       "    </tr>\n",
       "    <tr>\n",
       "      <th>3</th>\n",
       "      <td>0</td>\n",
       "      <td>19</td>\n",
       "    </tr>\n",
       "    <tr>\n",
       "      <th>4</th>\n",
       "      <td>0</td>\n",
       "      <td>6</td>\n",
       "    </tr>\n",
       "  </tbody>\n",
       "</table>\n",
       "</div>"
      ],
      "text/plain": [
       "   Genero  Plataforma\n",
       "0      11          14\n",
       "1      10           6\n",
       "2       3          16\n",
       "3       0          19\n",
       "4       0           6"
      ]
     },
     "execution_count": 2,
     "metadata": {},
     "output_type": "execute_result"
    }
   ],
   "source": [
    "treino.head()"
   ]
  },
  {
   "cell_type": "markdown",
   "metadata": {},
   "source": [
    "## Funções necessárias"
   ]
  },
  {
   "cell_type": "code",
   "execution_count": 105,
   "metadata": {},
   "outputs": [],
   "source": [
    "def appendCluster(teste):\n",
    "    cols = ['Nome', 'Plataforma', 'Ano de lancamento', 'Genero','Classificacao', 'Agrupamento']\n",
    "    resultado = pd.DataFrame(data={'Nome':[], 'Plataforma':[], 'Ano de lancamento':[], 'Genero':[], 'Classificacao':[], 'Agrupamento':[]})\n",
    "    if len(arrayAgrup) == 0:\n",
    "        print(\"Não possui agrupamento!\")\n",
    "    if len(arrayAgrup) > 0:\n",
    "        for x in arrayAgrup:\n",
    "           resultado = resultado.append(teste[teste['Agrupamento']==x], ignore_index=True)\n",
    "    return resultado\n",
    "\n",
    "def predicao(x):\n",
    "    return clusteringAffinityPropagation.predict([x])[0]\n",
    "\n",
    "def doAggregation(gen, plat, dict):\n",
    "    if \"{}; {}\".format(gen, plat) in dict:\n",
    "        dict[\"{}; {}\".format(gen, plat)] = dict[\"{}; {}\".format(gen, plat)] +1\n",
    "    else:\n",
    "        dict[\"{}; {}\".format(gen, plat)] = 1\n",
    "\n",
    "def pureza(df):\n",
    "    for x in unicos:\n",
    "        dfAgrupamento = df[df['Agrupamento']==x]\n",
    "        arrLocalPurify = []\n",
    "        dfAgrupamento.apply(lambda row: doAggregation(row[\"Genero\"], row[\"Plataforma\"], dictPurify), axis=1)\n",
    "        for k, v in dictPurify.items():\n",
    "            arrLocalPurify.append(dictPurify[k]/dfAgrupamento['Agrupamento'].size)\n",
    "        arrPureza.append(max(arrLocalPurify))\n",
    "        dictPurify.clear()\n",
    "    return sum(arrPureza)/len(arrPureza)\n",
    "\n",
    "def entropia(df):\n",
    "    dictEntropy = {}\n",
    "    arrEntropia = []\n",
    "    entropia = 0\n",
    "    for x in unicos:\n",
    "        dfAgrupamento = df[df['Agrupamento']==x]\n",
    "        arrLocalEntropy = []\n",
    "        dfAgrupamento.apply(lambda row: doAggregation(row[\"Genero\"], row[\"Plataforma\"], dictEntropy), axis=1)\n",
    "        for k, v in dictEntropy.items():\n",
    "            arrLocalEntropy.append((dictEntropy[k]/dfAgrupamento['Agrupamento'].size)*math.log(dictEntropy[k]/dfAgrupamento['Agrupamento'].size))\n",
    "        arrEntropia.append(sum(arrLocalEntropy)*(-1))\n",
    "        for x in arrEntropia:\n",
    "            entropia = entropia + (x*(dfAgrupamento['Agrupamento'].size/df.size))\n",
    "        dictEntropy.clear()\n",
    "    return entropia"
   ]
  },
  {
   "cell_type": "markdown",
   "metadata": {},
   "source": [
    "## Listas com parâmetros"
   ]
  },
  {
   "cell_type": "code",
   "execution_count": 110,
   "metadata": {},
   "outputs": [],
   "source": [
    "max_iter = [200, 400, 600, 800]\n",
    "damping = [0.5, 0.75, 1]\n",
    "convergence_iter = [10, 15, 20]\n",
    "affinity = ['euclidean', 'precomputed']\n",
    "copy = [True, False]\n",
    "verbose = [True, False]"
   ]
  },
  {
   "cell_type": "markdown",
   "metadata": {},
   "source": [
    "## Treinando o modelo"
   ]
  },
  {
   "cell_type": "code",
   "execution_count": 3,
   "metadata": {},
   "outputs": [],
   "source": [
    "# for a in max_iter:\n",
    "#     for b in damping:\n",
    "#         for c in convergence_iter:\n",
    "#             for d in affinity:\n",
    "#                 for e in copy:\n",
    "#                     for f in verbose:\n",
    "#                         clusteringAffinityPropagation = AffinityPropagation(max_iter=a, damping=b, convergence_iter=c, affinity=d, copy=e, verbose=f).fit(treino)\n",
    "\n",
    "clusteringAffinityPropagation = AffinityPropagation(max_iter=600).fit(treino)"
   ]
  },
  {
   "cell_type": "markdown",
   "metadata": {},
   "source": [
    "## Atributos do cluster"
   ]
  },
  {
   "cell_type": "markdown",
   "metadata": {},
   "source": [
    "### cluster_centers_indices_"
   ]
  },
  {
   "cell_type": "code",
   "execution_count": 4,
   "metadata": {},
   "outputs": [
    {
     "name": "stdout",
     "output_type": "stream",
     "text": [
      "[    0     1     4 ... 11197 11198 11199]\n",
      "Tamanho:  9330\n"
     ]
    }
   ],
   "source": [
    "print(clusteringAffinityPropagation.cluster_centers_indices_)\n",
    "print(\"Tamanho: \" , len(clusteringAffinityPropagation.cluster_centers_indices_))"
   ]
  },
  {
   "cell_type": "markdown",
   "metadata": {},
   "source": [
    "### cluster_centers_"
   ]
  },
  {
   "cell_type": "code",
   "execution_count": 5,
   "metadata": {},
   "outputs": [
    {
     "name": "stdout",
     "output_type": "stream",
     "text": [
      "[[11 14]\n",
      " [10  6]\n",
      " [ 0  6]\n",
      " ...\n",
      " [ 7  3]\n",
      " [ 7  7]\n",
      " [ 5  3]]\n",
      "Tamanho:  9330\n"
     ]
    }
   ],
   "source": [
    "print(clusteringAffinityPropagation.cluster_centers_)\n",
    "print(\"Tamanho: \" , len(clusteringAffinityPropagation.cluster_centers_))"
   ]
  },
  {
   "cell_type": "markdown",
   "metadata": {},
   "source": [
    "### labels_"
   ]
  },
  {
   "cell_type": "code",
   "execution_count": 6,
   "metadata": {},
   "outputs": [
    {
     "name": "stdout",
     "output_type": "stream",
     "text": [
      "[   0    1  944 ... 9327 9328 9329]\n",
      "Tamanho:  11200\n"
     ]
    }
   ],
   "source": [
    "print(clusteringAffinityPropagation.labels_)\n",
    "print(\"Tamanho: \" , len(clusteringAffinityPropagation.labels_))"
   ]
  },
  {
   "cell_type": "markdown",
   "metadata": {},
   "source": [
    "### affinity_matrix_"
   ]
  },
  {
   "cell_type": "code",
   "execution_count": 7,
   "metadata": {},
   "outputs": [
    {
     "name": "stdout",
     "output_type": "stream",
     "text": [
      "[[  -0.  -65.  -68. ... -137.  -65. -157.]\n",
      " [ -65.   -0. -149. ...  -18.  -10.  -34.]\n",
      " [ -68. -149.   -0. ... -185.  -97. -173.]\n",
      " ...\n",
      " [-137.  -18. -185. ...   -0.  -16.   -4.]\n",
      " [ -65.  -10.  -97. ...  -16.   -0.  -20.]\n",
      " [-157.  -34. -173. ...   -4.  -20.   -0.]]\n",
      "Tamanho:  11200\n"
     ]
    }
   ],
   "source": [
    "print(clusteringAffinityPropagation.affinity_matrix_)\n",
    "print(\"Tamanho: \" , len(clusteringAffinityPropagation.affinity_matrix_))"
   ]
  },
  {
   "cell_type": "markdown",
   "metadata": {},
   "source": [
    "### n_iter_"
   ]
  },
  {
   "cell_type": "code",
   "execution_count": 8,
   "metadata": {},
   "outputs": [
    {
     "name": "stdout",
     "output_type": "stream",
     "text": [
      "600\n"
     ]
    }
   ],
   "source": [
    "print(clusteringAffinityPropagation.n_iter_)"
   ]
  },
  {
   "cell_type": "markdown",
   "metadata": {},
   "source": [
    "# Predição"
   ]
  },
  {
   "cell_type": "markdown",
   "metadata": {},
   "source": [
    "### Abrindo arquivo de teste"
   ]
  },
  {
   "cell_type": "code",
   "execution_count": 9,
   "metadata": {
    "scrolled": true
   },
   "outputs": [
    {
     "data": {
      "text/html": [
       "<div>\n",
       "<style scoped>\n",
       "    .dataframe tbody tr th:only-of-type {\n",
       "        vertical-align: middle;\n",
       "    }\n",
       "\n",
       "    .dataframe tbody tr th {\n",
       "        vertical-align: top;\n",
       "    }\n",
       "\n",
       "    .dataframe thead th {\n",
       "        text-align: right;\n",
       "    }\n",
       "</style>\n",
       "<table border=\"1\" class=\"dataframe\">\n",
       "  <thead>\n",
       "    <tr style=\"text-align: right;\">\n",
       "      <th></th>\n",
       "      <th>Ano de lancamento</th>\n",
       "      <th>Classificacao</th>\n",
       "      <th>Genero</th>\n",
       "      <th>Nome</th>\n",
       "      <th>Plataforma</th>\n",
       "    </tr>\n",
       "  </thead>\n",
       "  <tbody>\n",
       "    <tr>\n",
       "      <th>0</th>\n",
       "      <td>2009.0</td>\n",
       "      <td>0</td>\n",
       "      <td>0</td>\n",
       "      <td>NBA Live 10</td>\n",
       "      <td>4</td>\n",
       "    </tr>\n",
       "    <tr>\n",
       "      <th>1</th>\n",
       "      <td>1995.0</td>\n",
       "      <td>99</td>\n",
       "      <td>3</td>\n",
       "      <td>Metal Max Returns</td>\n",
       "      <td>7</td>\n",
       "    </tr>\n",
       "    <tr>\n",
       "      <th>2</th>\n",
       "      <td>2009.0</td>\n",
       "      <td>0</td>\n",
       "      <td>7</td>\n",
       "      <td>Girl Time</td>\n",
       "      <td>3</td>\n",
       "    </tr>\n",
       "    <tr>\n",
       "      <th>3</th>\n",
       "      <td>2005.0</td>\n",
       "      <td>0</td>\n",
       "      <td>0</td>\n",
       "      <td>SSX On Tour</td>\n",
       "      <td>6</td>\n",
       "    </tr>\n",
       "    <tr>\n",
       "      <th>4</th>\n",
       "      <td>1997.0</td>\n",
       "      <td>99</td>\n",
       "      <td>2</td>\n",
       "      <td>VMX Racing</td>\n",
       "      <td>12</td>\n",
       "    </tr>\n",
       "  </tbody>\n",
       "</table>\n",
       "</div>"
      ],
      "text/plain": [
       "   Ano de lancamento  Classificacao  Genero               Nome  Plataforma\n",
       "0             2009.0              0       0        NBA Live 10           4\n",
       "1             1995.0             99       3  Metal Max Returns           7\n",
       "2             2009.0              0       7          Girl Time           3\n",
       "3             2005.0              0       0        SSX On Tour           6\n",
       "4             1997.0             99       2         VMX Racing          12"
      ]
     },
     "execution_count": 9,
     "metadata": {},
     "output_type": "execute_result"
    }
   ],
   "source": [
    "teste = pd.read_csv('teste.csv')\n",
    "teste.head()"
   ]
  },
  {
   "cell_type": "markdown",
   "metadata": {},
   "source": [
    "### Fazendo a predição"
   ]
  },
  {
   "cell_type": "code",
   "execution_count": 10,
   "metadata": {},
   "outputs": [],
   "source": [
    "teste['Agrupamento'] = teste.apply(lambda row: predicao([row['Plataforma'], row['Genero']]), axis=1)"
   ]
  },
  {
   "cell_type": "code",
   "execution_count": 102,
   "metadata": {},
   "outputs": [
    {
     "data": {
      "text/html": [
       "<div>\n",
       "<style scoped>\n",
       "    .dataframe tbody tr th:only-of-type {\n",
       "        vertical-align: middle;\n",
       "    }\n",
       "\n",
       "    .dataframe tbody tr th {\n",
       "        vertical-align: top;\n",
       "    }\n",
       "\n",
       "    .dataframe thead th {\n",
       "        text-align: right;\n",
       "    }\n",
       "</style>\n",
       "<table border=\"1\" class=\"dataframe\">\n",
       "  <thead>\n",
       "    <tr style=\"text-align: right;\">\n",
       "      <th></th>\n",
       "      <th>Ano de lancamento</th>\n",
       "      <th>Classificacao</th>\n",
       "      <th>Genero</th>\n",
       "      <th>Nome</th>\n",
       "      <th>Plataforma</th>\n",
       "      <th>Agrupamento</th>\n",
       "    </tr>\n",
       "  </thead>\n",
       "  <tbody>\n",
       "    <tr>\n",
       "      <th>0</th>\n",
       "      <td>2009.0</td>\n",
       "      <td>0</td>\n",
       "      <td>0</td>\n",
       "      <td>NBA Live 10</td>\n",
       "      <td>4</td>\n",
       "      <td>620</td>\n",
       "    </tr>\n",
       "    <tr>\n",
       "      <th>1</th>\n",
       "      <td>1995.0</td>\n",
       "      <td>99</td>\n",
       "      <td>3</td>\n",
       "      <td>Metal Max Returns</td>\n",
       "      <td>7</td>\n",
       "      <td>120</td>\n",
       "    </tr>\n",
       "    <tr>\n",
       "      <th>2</th>\n",
       "      <td>2009.0</td>\n",
       "      <td>0</td>\n",
       "      <td>7</td>\n",
       "      <td>Girl Time</td>\n",
       "      <td>3</td>\n",
       "      <td>31</td>\n",
       "    </tr>\n",
       "    <tr>\n",
       "      <th>3</th>\n",
       "      <td>2005.0</td>\n",
       "      <td>0</td>\n",
       "      <td>0</td>\n",
       "      <td>SSX On Tour</td>\n",
       "      <td>6</td>\n",
       "      <td>635</td>\n",
       "    </tr>\n",
       "    <tr>\n",
       "      <th>4</th>\n",
       "      <td>1997.0</td>\n",
       "      <td>99</td>\n",
       "      <td>2</td>\n",
       "      <td>VMX Racing</td>\n",
       "      <td>12</td>\n",
       "      <td>513</td>\n",
       "    </tr>\n",
       "  </tbody>\n",
       "</table>\n",
       "</div>"
      ],
      "text/plain": [
       "   Ano de lancamento  Classificacao  Genero               Nome  Plataforma  \\\n",
       "0             2009.0              0       0        NBA Live 10           4   \n",
       "1             1995.0             99       3  Metal Max Returns           7   \n",
       "2             2009.0              0       7          Girl Time           3   \n",
       "3             2005.0              0       0        SSX On Tour           6   \n",
       "4             1997.0             99       2         VMX Racing          12   \n",
       "\n",
       "   Agrupamento  \n",
       "0          620  \n",
       "1          120  \n",
       "2           31  \n",
       "3          635  \n",
       "4          513  "
      ]
     },
     "execution_count": 102,
     "metadata": {},
     "output_type": "execute_result"
    }
   ],
   "source": [
    "teste.head()"
   ]
  },
  {
   "cell_type": "code",
   "execution_count": 103,
   "metadata": {},
   "outputs": [
    {
     "data": {
      "text/html": [
       "<div>\n",
       "<style scoped>\n",
       "    .dataframe tbody tr th:only-of-type {\n",
       "        vertical-align: middle;\n",
       "    }\n",
       "\n",
       "    .dataframe tbody tr th {\n",
       "        vertical-align: top;\n",
       "    }\n",
       "\n",
       "    .dataframe thead th {\n",
       "        text-align: right;\n",
       "    }\n",
       "</style>\n",
       "<table border=\"1\" class=\"dataframe\">\n",
       "  <thead>\n",
       "    <tr style=\"text-align: right;\">\n",
       "      <th></th>\n",
       "      <th>Ano de lancamento</th>\n",
       "      <th>Classificacao</th>\n",
       "      <th>Genero</th>\n",
       "      <th>Plataforma</th>\n",
       "      <th>Agrupamento</th>\n",
       "    </tr>\n",
       "  </thead>\n",
       "  <tbody>\n",
       "    <tr>\n",
       "      <th>count</th>\n",
       "      <td>5517.000000</td>\n",
       "      <td>5517.000000</td>\n",
       "      <td>5517.000000</td>\n",
       "      <td>5517.000000</td>\n",
       "      <td>5517.000000</td>\n",
       "    </tr>\n",
       "    <tr>\n",
       "      <th>mean</th>\n",
       "      <td>1975.223129</td>\n",
       "      <td>40.645278</td>\n",
       "      <td>5.256480</td>\n",
       "      <td>8.698749</td>\n",
       "      <td>590.921153</td>\n",
       "    </tr>\n",
       "    <tr>\n",
       "      <th>std</th>\n",
       "      <td>248.646313</td>\n",
       "      <td>47.986765</td>\n",
       "      <td>3.437468</td>\n",
       "      <td>5.938550</td>\n",
       "      <td>968.782843</td>\n",
       "    </tr>\n",
       "    <tr>\n",
       "      <th>min</th>\n",
       "      <td>0.000000</td>\n",
       "      <td>0.000000</td>\n",
       "      <td>0.000000</td>\n",
       "      <td>0.000000</td>\n",
       "      <td>1.000000</td>\n",
       "    </tr>\n",
       "    <tr>\n",
       "      <th>25%</th>\n",
       "      <td>2003.000000</td>\n",
       "      <td>1.000000</td>\n",
       "      <td>2.000000</td>\n",
       "      <td>4.000000</td>\n",
       "      <td>92.000000</td>\n",
       "    </tr>\n",
       "    <tr>\n",
       "      <th>50%</th>\n",
       "      <td>2007.000000</td>\n",
       "      <td>2.000000</td>\n",
       "      <td>6.000000</td>\n",
       "      <td>6.000000</td>\n",
       "      <td>221.000000</td>\n",
       "    </tr>\n",
       "    <tr>\n",
       "      <th>75%</th>\n",
       "      <td>2010.000000</td>\n",
       "      <td>99.000000</td>\n",
       "      <td>8.000000</td>\n",
       "      <td>13.000000</td>\n",
       "      <td>620.000000</td>\n",
       "    </tr>\n",
       "    <tr>\n",
       "      <th>max</th>\n",
       "      <td>2016.000000</td>\n",
       "      <td>99.000000</td>\n",
       "      <td>11.000000</td>\n",
       "      <td>30.000000</td>\n",
       "      <td>5768.000000</td>\n",
       "    </tr>\n",
       "  </tbody>\n",
       "</table>\n",
       "</div>"
      ],
      "text/plain": [
       "       Ano de lancamento  Classificacao       Genero   Plataforma  Agrupamento\n",
       "count        5517.000000    5517.000000  5517.000000  5517.000000  5517.000000\n",
       "mean         1975.223129      40.645278     5.256480     8.698749   590.921153\n",
       "std           248.646313      47.986765     3.437468     5.938550   968.782843\n",
       "min             0.000000       0.000000     0.000000     0.000000     1.000000\n",
       "25%          2003.000000       1.000000     2.000000     4.000000    92.000000\n",
       "50%          2007.000000       2.000000     6.000000     6.000000   221.000000\n",
       "75%          2010.000000      99.000000     8.000000    13.000000   620.000000\n",
       "max          2016.000000      99.000000    11.000000    30.000000  5768.000000"
      ]
     },
     "execution_count": 103,
     "metadata": {},
     "output_type": "execute_result"
    }
   ],
   "source": [
    "teste.describe()"
   ]
  },
  {
   "cell_type": "code",
   "execution_count": 13,
   "metadata": {},
   "outputs": [],
   "source": [
    "unicos = teste['Agrupamento'].unique()"
   ]
  },
  {
   "cell_type": "code",
   "execution_count": 14,
   "metadata": {
    "scrolled": false
   },
   "outputs": [
    {
     "data": {
      "text/plain": [
       "array([   1,    2,    3,    4,    6,    9,   10,   11,   14,   17,   19,\n",
       "         20,   21,   22,   23,   24,   25,   27,   31,   32,   34,   41,\n",
       "         44,   47,   48,   53,   55,   61,   66,   68,   71,   75,   76,\n",
       "         77,   78,   84,   91,   92,   93,   99,  102,  105,  112,  117,\n",
       "        120,  123,  124,  128,  138,  141,  142,  149,  168,  172,  174,\n",
       "        182,  191,  198,  200,  220,  221,  223,  236,  238,  245,  300,\n",
       "        320,  321,  322,  331,  340,  372,  377,  422,  429,  456,  513,\n",
       "        526,  538,  554,  559,  570,  576,  606,  612,  620,  635,  641,\n",
       "        667,  677,  693,  707,  716,  722,  761,  853,  864,  916,  942,\n",
       "        958, 1089, 1107, 1248, 1256, 1259, 1340, 1419, 1530, 1714, 1834,\n",
       "       1974, 2051, 2465, 2520, 2988, 3273, 3451, 3912, 4344, 4731, 5768],\n",
       "      dtype=int64)"
      ]
     },
     "execution_count": 14,
     "metadata": {},
     "output_type": "execute_result"
    }
   ],
   "source": [
    "unicos.sort()\n",
    "unicos"
   ]
  },
  {
   "cell_type": "markdown",
   "metadata": {},
   "source": [
    "### Fazendo a predição de uma lista de jogos"
   ]
  },
  {
   "cell_type": "code",
   "execution_count": 15,
   "metadata": {},
   "outputs": [
    {
     "data": {
      "text/plain": [
       "array([1714,  707], dtype=int64)"
      ]
     },
     "execution_count": 15,
     "metadata": {},
     "output_type": "execute_result"
    }
   ],
   "source": [
    "# Plataforma - Gênero - Classificação\n",
    "# SOCOM: U.S. Navy SEALs Fireteam Bravo 3 - [16,6]\n",
    "# Dragon Ball Z: Budokai 2 - [19,9]\n",
    "# Ultra Street Fighter IV - [9,9]\n",
    "# Final Fantasy XI: Treasures of Aht Urhgan - [6,3]\n",
    "option = [[19,9],[9,9]]\n",
    "arrayAgrup = clusteringAffinityPropagation.predict(option)\n",
    "arrayAgrup"
   ]
  },
  {
   "cell_type": "code",
   "execution_count": 16,
   "metadata": {},
   "outputs": [
    {
     "data": {
      "text/html": [
       "<div>\n",
       "<style scoped>\n",
       "    .dataframe tbody tr th:only-of-type {\n",
       "        vertical-align: middle;\n",
       "    }\n",
       "\n",
       "    .dataframe tbody tr th {\n",
       "        vertical-align: top;\n",
       "    }\n",
       "\n",
       "    .dataframe thead th {\n",
       "        text-align: right;\n",
       "    }\n",
       "</style>\n",
       "<table border=\"1\" class=\"dataframe\">\n",
       "  <thead>\n",
       "    <tr style=\"text-align: right;\">\n",
       "      <th></th>\n",
       "      <th>Ano de lancamento</th>\n",
       "      <th>Classificacao</th>\n",
       "      <th>Genero</th>\n",
       "      <th>Nome</th>\n",
       "      <th>Plataforma</th>\n",
       "      <th>Agrupamento</th>\n",
       "    </tr>\n",
       "  </thead>\n",
       "  <tbody>\n",
       "    <tr>\n",
       "      <th>0</th>\n",
       "      <td>2009.0</td>\n",
       "      <td>0</td>\n",
       "      <td>0</td>\n",
       "      <td>NBA Live 10</td>\n",
       "      <td>4</td>\n",
       "      <td>620</td>\n",
       "    </tr>\n",
       "    <tr>\n",
       "      <th>1</th>\n",
       "      <td>1995.0</td>\n",
       "      <td>99</td>\n",
       "      <td>3</td>\n",
       "      <td>Metal Max Returns</td>\n",
       "      <td>7</td>\n",
       "      <td>120</td>\n",
       "    </tr>\n",
       "    <tr>\n",
       "      <th>2</th>\n",
       "      <td>2009.0</td>\n",
       "      <td>0</td>\n",
       "      <td>7</td>\n",
       "      <td>Girl Time</td>\n",
       "      <td>3</td>\n",
       "      <td>31</td>\n",
       "    </tr>\n",
       "    <tr>\n",
       "      <th>3</th>\n",
       "      <td>2005.0</td>\n",
       "      <td>0</td>\n",
       "      <td>0</td>\n",
       "      <td>SSX On Tour</td>\n",
       "      <td>6</td>\n",
       "      <td>635</td>\n",
       "    </tr>\n",
       "    <tr>\n",
       "      <th>4</th>\n",
       "      <td>1997.0</td>\n",
       "      <td>99</td>\n",
       "      <td>2</td>\n",
       "      <td>VMX Racing</td>\n",
       "      <td>12</td>\n",
       "      <td>513</td>\n",
       "    </tr>\n",
       "  </tbody>\n",
       "</table>\n",
       "</div>"
      ],
      "text/plain": [
       "   Ano de lancamento  Classificacao  Genero               Nome  Plataforma  \\\n",
       "0             2009.0              0       0        NBA Live 10           4   \n",
       "1             1995.0             99       3  Metal Max Returns           7   \n",
       "2             2009.0              0       7          Girl Time           3   \n",
       "3             2005.0              0       0        SSX On Tour           6   \n",
       "4             1997.0             99       2         VMX Racing          12   \n",
       "\n",
       "   Agrupamento  \n",
       "0          620  \n",
       "1          120  \n",
       "2           31  \n",
       "3          635  \n",
       "4          513  "
      ]
     },
     "execution_count": 16,
     "metadata": {},
     "output_type": "execute_result"
    }
   ],
   "source": [
    "teste.head()"
   ]
  },
  {
   "cell_type": "code",
   "execution_count": 108,
   "metadata": {},
   "outputs": [
    {
     "data": {
      "text/html": [
       "<div>\n",
       "<style scoped>\n",
       "    .dataframe tbody tr th:only-of-type {\n",
       "        vertical-align: middle;\n",
       "    }\n",
       "\n",
       "    .dataframe tbody tr th {\n",
       "        vertical-align: top;\n",
       "    }\n",
       "\n",
       "    .dataframe thead th {\n",
       "        text-align: right;\n",
       "    }\n",
       "</style>\n",
       "<table border=\"1\" class=\"dataframe\">\n",
       "  <thead>\n",
       "    <tr style=\"text-align: right;\">\n",
       "      <th></th>\n",
       "      <th>Agrupamento</th>\n",
       "      <th>Ano de lancamento</th>\n",
       "      <th>Classificacao</th>\n",
       "      <th>Genero</th>\n",
       "      <th>Nome</th>\n",
       "      <th>Plataforma</th>\n",
       "    </tr>\n",
       "  </thead>\n",
       "  <tbody>\n",
       "    <tr>\n",
       "      <th>0</th>\n",
       "      <td>1714.0</td>\n",
       "      <td>1995.0</td>\n",
       "      <td>99.0</td>\n",
       "      <td>9.0</td>\n",
       "      <td>Zero Divide</td>\n",
       "      <td>12.0</td>\n",
       "    </tr>\n",
       "    <tr>\n",
       "      <th>1</th>\n",
       "      <td>1714.0</td>\n",
       "      <td>1996.0</td>\n",
       "      <td>99.0</td>\n",
       "      <td>9.0</td>\n",
       "      <td>Real Bout Garou Densetsu</td>\n",
       "      <td>23.0</td>\n",
       "    </tr>\n",
       "    <tr>\n",
       "      <th>2</th>\n",
       "      <td>1714.0</td>\n",
       "      <td>1998.0</td>\n",
       "      <td>99.0</td>\n",
       "      <td>9.0</td>\n",
       "      <td>Virtua Fighter 3tb</td>\n",
       "      <td>21.0</td>\n",
       "    </tr>\n",
       "    <tr>\n",
       "      <th>3</th>\n",
       "      <td>1714.0</td>\n",
       "      <td>2006.0</td>\n",
       "      <td>2.0</td>\n",
       "      <td>9.0</td>\n",
       "      <td>Samurai Shodown V</td>\n",
       "      <td>13.0</td>\n",
       "    </tr>\n",
       "    <tr>\n",
       "      <th>4</th>\n",
       "      <td>1714.0</td>\n",
       "      <td>1995.0</td>\n",
       "      <td>99.0</td>\n",
       "      <td>9.0</td>\n",
       "      <td>Blades of Blood: Samurai Shodown III</td>\n",
       "      <td>12.0</td>\n",
       "    </tr>\n",
       "  </tbody>\n",
       "</table>\n",
       "</div>"
      ],
      "text/plain": [
       "   Agrupamento  Ano de lancamento  Classificacao  Genero  \\\n",
       "0       1714.0             1995.0           99.0     9.0   \n",
       "1       1714.0             1996.0           99.0     9.0   \n",
       "2       1714.0             1998.0           99.0     9.0   \n",
       "3       1714.0             2006.0            2.0     9.0   \n",
       "4       1714.0             1995.0           99.0     9.0   \n",
       "\n",
       "                                   Nome  Plataforma  \n",
       "0                           Zero Divide        12.0  \n",
       "1              Real Bout Garou Densetsu        23.0  \n",
       "2                    Virtua Fighter 3tb        21.0  \n",
       "3                     Samurai Shodown V        13.0  \n",
       "4  Blades of Blood: Samurai Shodown III        12.0  "
      ]
     },
     "execution_count": 108,
     "metadata": {},
     "output_type": "execute_result"
    }
   ],
   "source": [
    "appendCluster(teste).head()"
   ]
  },
  {
   "cell_type": "markdown",
   "metadata": {},
   "source": [
    "## Similaridade"
   ]
  },
  {
   "cell_type": "code",
   "execution_count": 18,
   "metadata": {
    "scrolled": true
   },
   "outputs": [],
   "source": [
    "# from sklearn.metrics.pairwise import cosine_similarity\n",
    "\n",
    "# def similaridade(x):\n",
    "#     return cosine_similarity([option],[x])[0][0]\n",
    "# resultado['Similaridade'] = resultado.apply(lambda row: similaridade([row['Plataforma'], row['Genero']]), axis=1)\n",
    "# resultado.sort_values(by=['Similaridade'], ascending=False)"
   ]
  },
  {
   "cell_type": "code",
   "execution_count": 19,
   "metadata": {},
   "outputs": [],
   "source": [
    "# for x in a:\n",
    "#     print(teste[teste['Agrupamento']==x].count())\n",
    "    \n",
    "# teste[teste['Agrupamento']==4].groupby(by=['Media de pontuacao'])\n",
    "\n",
    "# print(teste[teste['Agrupamento']==61].count())"
   ]
  },
  {
   "cell_type": "markdown",
   "metadata": {},
   "source": [
    "# Métricas de validação"
   ]
  },
  {
   "cell_type": "markdown",
   "metadata": {},
   "source": [
    "## Pureza\n",
    "### A pureza é quanto de um agrupamento é formado por uma só classe. \n",
    "A pureza é o quanto que a mistura de gases dentro de um balão é pura."
   ]
  },
  {
   "cell_type": "code",
   "execution_count": 106,
   "metadata": {
    "scrolled": true
   },
   "outputs": [
    {
     "data": {
      "text/plain": [
       "0.9231680921089751"
      ]
     },
     "execution_count": 106,
     "metadata": {},
     "output_type": "execute_result"
    }
   ],
   "source": [
    "pureza(teste)"
   ]
  },
  {
   "cell_type": "markdown",
   "metadata": {},
   "source": [
    "## Entropia"
   ]
  },
  {
   "cell_type": "markdown",
   "metadata": {},
   "source": [
    "### A entropia mede o quão pouco separados, caóticos, os seus dados estão.\n",
    "A entropia é o quanto que os gases estão misturados. Uma mistura com pouca entropia é bem separada."
   ]
  },
  {
   "cell_type": "code",
   "execution_count": 101,
   "metadata": {},
   "outputs": [
    {
     "data": {
      "text/plain": [
       "2.031560347191857"
      ]
     },
     "execution_count": 101,
     "metadata": {},
     "output_type": "execute_result"
    }
   ],
   "source": [
    "entropia(teste)"
   ]
  }
 ],
 "metadata": {
  "kernelspec": {
   "display_name": "Python 3",
   "language": "python",
   "name": "python3"
  },
  "language_info": {
   "codemirror_mode": {
    "name": "ipython",
    "version": 3
   },
   "file_extension": ".py",
   "mimetype": "text/x-python",
   "name": "python",
   "nbconvert_exporter": "python",
   "pygments_lexer": "ipython3",
   "version": "3.7.3"
  }
 },
 "nbformat": 4,
 "nbformat_minor": 2
}
